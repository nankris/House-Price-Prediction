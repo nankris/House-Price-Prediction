{
 "cells": [
  {
   "cell_type": "code",
   "execution_count": 136,
   "metadata": {},
   "outputs": [],
   "source": [
    "import os\n",
    "os.chdir(\"C:\\\\Users\\\\Poori\\\\Desktop\\\\Delloite\\\\AirBnB10K\")"
   ]
  },
  {
   "cell_type": "code",
   "execution_count": 137,
   "metadata": {},
   "outputs": [],
   "source": [
    "import pandas as pd\n",
    "import numpy as np\n",
    "import matplotlib.pyplot as plt\n",
    "houses_train=pd.read_csv(\"train10k.csv\")\n",
    "houses_test=pd.read_csv(\"test2k.csv\")"
   ]
  },
  {
   "cell_type": "code",
   "execution_count": 138,
   "metadata": {},
   "outputs": [
    {
     "data": {
      "text/html": [
       "<div>\n",
       "<style scoped>\n",
       "    .dataframe tbody tr th:only-of-type {\n",
       "        vertical-align: middle;\n",
       "    }\n",
       "\n",
       "    .dataframe tbody tr th {\n",
       "        vertical-align: top;\n",
       "    }\n",
       "\n",
       "    .dataframe thead th {\n",
       "        text-align: right;\n",
       "    }\n",
       "</style>\n",
       "<table border=\"1\" class=\"dataframe\">\n",
       "  <thead>\n",
       "    <tr style=\"text-align: right;\">\n",
       "      <th></th>\n",
       "      <th>id</th>\n",
       "      <th>log_price</th>\n",
       "      <th>property_type</th>\n",
       "      <th>room_type</th>\n",
       "      <th>amenities</th>\n",
       "      <th>accommodates</th>\n",
       "      <th>bathrooms</th>\n",
       "      <th>bed_type</th>\n",
       "      <th>cancellation_policy</th>\n",
       "      <th>cleaning_fee</th>\n",
       "      <th>...</th>\n",
       "      <th>latitude</th>\n",
       "      <th>longitude</th>\n",
       "      <th>name</th>\n",
       "      <th>neighbourhood</th>\n",
       "      <th>number_of_reviews</th>\n",
       "      <th>review_scores_rating</th>\n",
       "      <th>thumbnail_url</th>\n",
       "      <th>zipcode</th>\n",
       "      <th>bedrooms</th>\n",
       "      <th>beds</th>\n",
       "    </tr>\n",
       "  </thead>\n",
       "  <tbody>\n",
       "    <tr>\n",
       "      <th>0</th>\n",
       "      <td>5506438</td>\n",
       "      <td>4.605170</td>\n",
       "      <td>Apartment</td>\n",
       "      <td>Entire home/apt</td>\n",
       "      <td>{\"Wireless Internet\",\"Wheelchair accessible\",K...</td>\n",
       "      <td>3</td>\n",
       "      <td>1.0</td>\n",
       "      <td>Real Bed</td>\n",
       "      <td>flexible</td>\n",
       "      <td>False</td>\n",
       "      <td>...</td>\n",
       "      <td>40.859270</td>\n",
       "      <td>-73.929658</td>\n",
       "      <td>Spacious 1 Bd. Apt. Inwood near Fort Tryon Park</td>\n",
       "      <td>Washington Heights</td>\n",
       "      <td>0</td>\n",
       "      <td>NaN</td>\n",
       "      <td>https://a0.muscache.com/im/pictures/8d65b600-3...</td>\n",
       "      <td>10040</td>\n",
       "      <td>2.0</td>\n",
       "      <td>1.0</td>\n",
       "    </tr>\n",
       "    <tr>\n",
       "      <th>1</th>\n",
       "      <td>12343026</td>\n",
       "      <td>5.010635</td>\n",
       "      <td>Apartment</td>\n",
       "      <td>Entire home/apt</td>\n",
       "      <td>{TV,\"Cable TV\",Internet,\"Wireless Internet\",\"A...</td>\n",
       "      <td>2</td>\n",
       "      <td>1.0</td>\n",
       "      <td>Real Bed</td>\n",
       "      <td>flexible</td>\n",
       "      <td>True</td>\n",
       "      <td>...</td>\n",
       "      <td>40.738295</td>\n",
       "      <td>-74.006016</td>\n",
       "      <td>Lovely 1BR West Village Apartment</td>\n",
       "      <td>West Village</td>\n",
       "      <td>0</td>\n",
       "      <td>NaN</td>\n",
       "      <td>https://a0.muscache.com/im/pictures/9c1b8f62-1...</td>\n",
       "      <td>10014</td>\n",
       "      <td>1.0</td>\n",
       "      <td>1.0</td>\n",
       "    </tr>\n",
       "    <tr>\n",
       "      <th>2</th>\n",
       "      <td>9493786</td>\n",
       "      <td>4.077537</td>\n",
       "      <td>House</td>\n",
       "      <td>Private room</td>\n",
       "      <td>{\"Wireless Internet\",Kitchen,\"Free parking on ...</td>\n",
       "      <td>3</td>\n",
       "      <td>1.5</td>\n",
       "      <td>Real Bed</td>\n",
       "      <td>moderate</td>\n",
       "      <td>True</td>\n",
       "      <td>...</td>\n",
       "      <td>40.662847</td>\n",
       "      <td>-73.946532</td>\n",
       "      <td>2. Private Room with nice queen bed</td>\n",
       "      <td>East Flatbush</td>\n",
       "      <td>0</td>\n",
       "      <td>NaN</td>\n",
       "      <td>https://a0.muscache.com/im/pictures/756d845e-3...</td>\n",
       "      <td>11225</td>\n",
       "      <td>1.0</td>\n",
       "      <td>1.0</td>\n",
       "    </tr>\n",
       "    <tr>\n",
       "      <th>3</th>\n",
       "      <td>9961396</td>\n",
       "      <td>5.686975</td>\n",
       "      <td>Apartment</td>\n",
       "      <td>Entire home/apt</td>\n",
       "      <td>{\"Cable TV\",Internet,\"Wireless Internet\",\"Air ...</td>\n",
       "      <td>1</td>\n",
       "      <td>1.0</td>\n",
       "      <td>Real Bed</td>\n",
       "      <td>flexible</td>\n",
       "      <td>False</td>\n",
       "      <td>...</td>\n",
       "      <td>40.796835</td>\n",
       "      <td>-73.970703</td>\n",
       "      <td>Upper West Side Large Private Bdrm</td>\n",
       "      <td>Upper West Side</td>\n",
       "      <td>0</td>\n",
       "      <td>NaN</td>\n",
       "      <td>https://a0.muscache.com/im/pictures/106971386/...</td>\n",
       "      <td>10025</td>\n",
       "      <td>1.0</td>\n",
       "      <td>1.0</td>\n",
       "    </tr>\n",
       "    <tr>\n",
       "      <th>4</th>\n",
       "      <td>4820071</td>\n",
       "      <td>5.991465</td>\n",
       "      <td>Apartment</td>\n",
       "      <td>Entire home/apt</td>\n",
       "      <td>{TV,Pool,Kitchen,Gym,Elevator,Heating,\"Family/...</td>\n",
       "      <td>3</td>\n",
       "      <td>1.0</td>\n",
       "      <td>Real Bed</td>\n",
       "      <td>strict</td>\n",
       "      <td>True</td>\n",
       "      <td>...</td>\n",
       "      <td>37.782340</td>\n",
       "      <td>-122.397179</td>\n",
       "      <td>GREAT location!!!!</td>\n",
       "      <td>SoMa</td>\n",
       "      <td>4</td>\n",
       "      <td>90.0</td>\n",
       "      <td>https://a0.muscache.com/im/pictures/105087954/...</td>\n",
       "      <td>94107</td>\n",
       "      <td>1.0</td>\n",
       "      <td>1.0</td>\n",
       "    </tr>\n",
       "  </tbody>\n",
       "</table>\n",
       "<p>5 rows × 29 columns</p>\n",
       "</div>"
      ],
      "text/plain": [
       "         id  log_price property_type        room_type  \\\n",
       "0   5506438   4.605170     Apartment  Entire home/apt   \n",
       "1  12343026   5.010635     Apartment  Entire home/apt   \n",
       "2   9493786   4.077537         House     Private room   \n",
       "3   9961396   5.686975     Apartment  Entire home/apt   \n",
       "4   4820071   5.991465     Apartment  Entire home/apt   \n",
       "\n",
       "                                           amenities  accommodates  bathrooms  \\\n",
       "0  {\"Wireless Internet\",\"Wheelchair accessible\",K...             3        1.0   \n",
       "1  {TV,\"Cable TV\",Internet,\"Wireless Internet\",\"A...             2        1.0   \n",
       "2  {\"Wireless Internet\",Kitchen,\"Free parking on ...             3        1.5   \n",
       "3  {\"Cable TV\",Internet,\"Wireless Internet\",\"Air ...             1        1.0   \n",
       "4  {TV,Pool,Kitchen,Gym,Elevator,Heating,\"Family/...             3        1.0   \n",
       "\n",
       "   bed_type cancellation_policy  cleaning_fee  ...   latitude   longitude  \\\n",
       "0  Real Bed            flexible         False  ...  40.859270  -73.929658   \n",
       "1  Real Bed            flexible          True  ...  40.738295  -74.006016   \n",
       "2  Real Bed            moderate          True  ...  40.662847  -73.946532   \n",
       "3  Real Bed            flexible         False  ...  40.796835  -73.970703   \n",
       "4  Real Bed              strict          True  ...  37.782340 -122.397179   \n",
       "\n",
       "                                              name       neighbourhood  \\\n",
       "0  Spacious 1 Bd. Apt. Inwood near Fort Tryon Park  Washington Heights   \n",
       "1                Lovely 1BR West Village Apartment        West Village   \n",
       "2              2. Private Room with nice queen bed       East Flatbush   \n",
       "3               Upper West Side Large Private Bdrm     Upper West Side   \n",
       "4                               GREAT location!!!!                SoMa   \n",
       "\n",
       "  number_of_reviews review_scores_rating  \\\n",
       "0                 0                  NaN   \n",
       "1                 0                  NaN   \n",
       "2                 0                  NaN   \n",
       "3                 0                  NaN   \n",
       "4                 4                 90.0   \n",
       "\n",
       "                                       thumbnail_url zipcode bedrooms  beds  \n",
       "0  https://a0.muscache.com/im/pictures/8d65b600-3...   10040      2.0   1.0  \n",
       "1  https://a0.muscache.com/im/pictures/9c1b8f62-1...   10014      1.0   1.0  \n",
       "2  https://a0.muscache.com/im/pictures/756d845e-3...   11225      1.0   1.0  \n",
       "3  https://a0.muscache.com/im/pictures/106971386/...   10025      1.0   1.0  \n",
       "4  https://a0.muscache.com/im/pictures/105087954/...   94107      1.0   1.0  \n",
       "\n",
       "[5 rows x 29 columns]"
      ]
     },
     "execution_count": 138,
     "metadata": {},
     "output_type": "execute_result"
    }
   ],
   "source": [
    "houses_train.head()"
   ]
  },
  {
   "cell_type": "code",
   "execution_count": 139,
   "metadata": {},
   "outputs": [
    {
     "data": {
      "text/plain": [
       "Index(['id', 'property_type', 'room_type', 'amenities', 'accommodates',\n",
       "       'bathrooms', 'bed_type', 'cancellation_policy', 'cleaning_fee', 'city',\n",
       "       'description', 'first_review', 'host_has_profile_pic',\n",
       "       'host_identity_verified', 'host_response_rate', 'host_since',\n",
       "       'instant_bookable', 'last_review', 'latitude', 'longitude', 'name',\n",
       "       'neighbourhood', 'number_of_reviews', 'review_scores_rating',\n",
       "       'thumbnail_url', 'zipcode', 'bedrooms', 'beds'],\n",
       "      dtype='object')"
      ]
     },
     "execution_count": 139,
     "metadata": {},
     "output_type": "execute_result"
    }
   ],
   "source": [
    "houses_test.columns\n",
    "#houses_test[]"
   ]
  },
  {
   "cell_type": "code",
   "execution_count": 140,
   "metadata": {},
   "outputs": [
    {
     "data": {
      "text/plain": [
       "Index(['id', 'log_price', 'property_type', 'room_type', 'amenities',\n",
       "       'accommodates', 'bathrooms', 'bed_type', 'cancellation_policy',\n",
       "       'cleaning_fee', 'city', 'description', 'first_review',\n",
       "       'host_has_profile_pic', 'host_identity_verified', 'host_response_rate',\n",
       "       'host_since', 'instant_bookable', 'last_review', 'latitude',\n",
       "       'longitude', 'name', 'neighbourhood', 'number_of_reviews',\n",
       "       'review_scores_rating', 'thumbnail_url', 'zipcode', 'bedrooms', 'beds'],\n",
       "      dtype='object')"
      ]
     },
     "execution_count": 140,
     "metadata": {},
     "output_type": "execute_result"
    }
   ],
   "source": [
    "houses_train.columns"
   ]
  },
  {
   "cell_type": "code",
   "execution_count": 141,
   "metadata": {},
   "outputs": [],
   "source": [
    "houses_test.columns\n",
    "houses_train=houses_test.copy()"
   ]
  },
  {
   "cell_type": "code",
   "execution_count": 142,
   "metadata": {},
   "outputs": [
    {
     "data": {
      "text/plain": [
       "array(['Bungalow', 'Apartment', 'House', 'Townhouse', 'Condominium',\n",
       "       'Other', 'Loft', 'Bed & Breakfast', 'In-law', 'Guesthouse', 'Dorm',\n",
       "       'Guest suite', 'Hostel', 'Boutique hotel', 'Camper/RV',\n",
       "       'Treehouse', 'Villa', 'Timeshare', 'Yurt', 'Boat'], dtype=object)"
      ]
     },
     "execution_count": 142,
     "metadata": {},
     "output_type": "execute_result"
    }
   ],
   "source": [
    "houses_train[\"property_type\"].unique()"
   ]
  },
  {
   "cell_type": "code",
   "execution_count": 143,
   "metadata": {},
   "outputs": [
    {
     "data": {
      "text/html": [
       "<div>\n",
       "<style scoped>\n",
       "    .dataframe tbody tr th:only-of-type {\n",
       "        vertical-align: middle;\n",
       "    }\n",
       "\n",
       "    .dataframe tbody tr th {\n",
       "        vertical-align: top;\n",
       "    }\n",
       "\n",
       "    .dataframe thead th {\n",
       "        text-align: right;\n",
       "    }\n",
       "</style>\n",
       "<table border=\"1\" class=\"dataframe\">\n",
       "  <thead>\n",
       "    <tr style=\"text-align: right;\">\n",
       "      <th></th>\n",
       "      <th>id</th>\n",
       "      <th>accommodates</th>\n",
       "      <th>bathrooms</th>\n",
       "      <th>latitude</th>\n",
       "      <th>longitude</th>\n",
       "      <th>number_of_reviews</th>\n",
       "      <th>review_scores_rating</th>\n",
       "      <th>zipcode</th>\n",
       "      <th>bedrooms</th>\n",
       "      <th>beds</th>\n",
       "    </tr>\n",
       "  </thead>\n",
       "  <tbody>\n",
       "    <tr>\n",
       "      <th>count</th>\n",
       "      <td>2.000000e+03</td>\n",
       "      <td>2000.000000</td>\n",
       "      <td>1993.000000</td>\n",
       "      <td>2000.000000</td>\n",
       "      <td>2000.000000</td>\n",
       "      <td>2000.000000</td>\n",
       "      <td>1574.000000</td>\n",
       "      <td>1973.000000</td>\n",
       "      <td>1998.000000</td>\n",
       "      <td>1998.000000</td>\n",
       "    </tr>\n",
       "    <tr>\n",
       "      <th>mean</th>\n",
       "      <td>1.102315e+07</td>\n",
       "      <td>3.202000</td>\n",
       "      <td>1.248620</td>\n",
       "      <td>38.499281</td>\n",
       "      <td>-92.035373</td>\n",
       "      <td>19.716000</td>\n",
       "      <td>93.871665</td>\n",
       "      <td>44278.756716</td>\n",
       "      <td>1.303804</td>\n",
       "      <td>1.738238</td>\n",
       "    </tr>\n",
       "    <tr>\n",
       "      <th>std</th>\n",
       "      <td>6.151881e+06</td>\n",
       "      <td>2.121661</td>\n",
       "      <td>0.604559</td>\n",
       "      <td>3.053871</td>\n",
       "      <td>21.580631</td>\n",
       "      <td>36.045568</td>\n",
       "      <td>7.996188</td>\n",
       "      <td>38433.106748</td>\n",
       "      <td>0.865112</td>\n",
       "      <td>1.217486</td>\n",
       "    </tr>\n",
       "    <tr>\n",
       "      <th>min</th>\n",
       "      <td>5.728000e+03</td>\n",
       "      <td>1.000000</td>\n",
       "      <td>0.000000</td>\n",
       "      <td>33.712008</td>\n",
       "      <td>-122.509156</td>\n",
       "      <td>0.000000</td>\n",
       "      <td>20.000000</td>\n",
       "      <td>2108.000000</td>\n",
       "      <td>0.000000</td>\n",
       "      <td>1.000000</td>\n",
       "    </tr>\n",
       "    <tr>\n",
       "      <th>25%</th>\n",
       "      <td>5.777224e+06</td>\n",
       "      <td>2.000000</td>\n",
       "      <td>1.000000</td>\n",
       "      <td>34.148024</td>\n",
       "      <td>-118.338725</td>\n",
       "      <td>1.000000</td>\n",
       "      <td>91.000000</td>\n",
       "      <td>11101.000000</td>\n",
       "      <td>1.000000</td>\n",
       "      <td>1.000000</td>\n",
       "    </tr>\n",
       "    <tr>\n",
       "      <th>50%</th>\n",
       "      <td>1.207509e+07</td>\n",
       "      <td>2.000000</td>\n",
       "      <td>1.000000</td>\n",
       "      <td>40.668503</td>\n",
       "      <td>-76.994034</td>\n",
       "      <td>6.000000</td>\n",
       "      <td>96.000000</td>\n",
       "      <td>20001.000000</td>\n",
       "      <td>1.000000</td>\n",
       "      <td>1.000000</td>\n",
       "    </tr>\n",
       "    <tr>\n",
       "      <th>75%</th>\n",
       "      <td>1.623296e+07</td>\n",
       "      <td>4.000000</td>\n",
       "      <td>1.000000</td>\n",
       "      <td>40.745756</td>\n",
       "      <td>-73.953249</td>\n",
       "      <td>22.000000</td>\n",
       "      <td>100.000000</td>\n",
       "      <td>90065.000000</td>\n",
       "      <td>2.000000</td>\n",
       "      <td>2.000000</td>\n",
       "    </tr>\n",
       "    <tr>\n",
       "      <th>max</th>\n",
       "      <td>2.122236e+07</td>\n",
       "      <td>16.000000</td>\n",
       "      <td>8.000000</td>\n",
       "      <td>42.378898</td>\n",
       "      <td>-71.034889</td>\n",
       "      <td>442.000000</td>\n",
       "      <td>100.000000</td>\n",
       "      <td>94158.000000</td>\n",
       "      <td>7.000000</td>\n",
       "      <td>14.000000</td>\n",
       "    </tr>\n",
       "  </tbody>\n",
       "</table>\n",
       "</div>"
      ],
      "text/plain": [
       "                 id  accommodates    bathrooms     latitude    longitude  \\\n",
       "count  2.000000e+03   2000.000000  1993.000000  2000.000000  2000.000000   \n",
       "mean   1.102315e+07      3.202000     1.248620    38.499281   -92.035373   \n",
       "std    6.151881e+06      2.121661     0.604559     3.053871    21.580631   \n",
       "min    5.728000e+03      1.000000     0.000000    33.712008  -122.509156   \n",
       "25%    5.777224e+06      2.000000     1.000000    34.148024  -118.338725   \n",
       "50%    1.207509e+07      2.000000     1.000000    40.668503   -76.994034   \n",
       "75%    1.623296e+07      4.000000     1.000000    40.745756   -73.953249   \n",
       "max    2.122236e+07     16.000000     8.000000    42.378898   -71.034889   \n",
       "\n",
       "       number_of_reviews  review_scores_rating       zipcode     bedrooms  \\\n",
       "count        2000.000000           1574.000000   1973.000000  1998.000000   \n",
       "mean           19.716000             93.871665  44278.756716     1.303804   \n",
       "std            36.045568              7.996188  38433.106748     0.865112   \n",
       "min             0.000000             20.000000   2108.000000     0.000000   \n",
       "25%             1.000000             91.000000  11101.000000     1.000000   \n",
       "50%             6.000000             96.000000  20001.000000     1.000000   \n",
       "75%            22.000000            100.000000  90065.000000     2.000000   \n",
       "max           442.000000            100.000000  94158.000000     7.000000   \n",
       "\n",
       "              beds  \n",
       "count  1998.000000  \n",
       "mean      1.738238  \n",
       "std       1.217486  \n",
       "min       1.000000  \n",
       "25%       1.000000  \n",
       "50%       1.000000  \n",
       "75%       2.000000  \n",
       "max      14.000000  "
      ]
     },
     "execution_count": 143,
     "metadata": {},
     "output_type": "execute_result"
    }
   ],
   "source": [
    "houses_train.describe()"
   ]
  },
  {
   "cell_type": "code",
   "execution_count": 144,
   "metadata": {},
   "outputs": [
    {
     "data": {
      "text/plain": [
       "array(['Private room', 'Entire home/apt', 'Shared room'], dtype=object)"
      ]
     },
     "execution_count": 144,
     "metadata": {},
     "output_type": "execute_result"
    }
   ],
   "source": [
    "houses_train[\"room_type\"].unique()"
   ]
  },
  {
   "cell_type": "code",
   "execution_count": 145,
   "metadata": {},
   "outputs": [
    {
     "data": {
      "text/plain": [
       "1977"
      ]
     },
     "execution_count": 145,
     "metadata": {},
     "output_type": "execute_result"
    }
   ],
   "source": [
    "len(list(houses_train[\"amenities\"].unique()))"
   ]
  },
  {
   "cell_type": "code",
   "execution_count": 146,
   "metadata": {},
   "outputs": [],
   "source": [
    "#houses=pd.concat([houses_train,houses_test],keys=['train','test'])\n",
    "#houses.head()"
   ]
  },
  {
   "cell_type": "code",
   "execution_count": 147,
   "metadata": {},
   "outputs": [
    {
     "data": {
      "text/plain": [
       "0    {TV,Internet,\"Wireless Internet\",\"Air conditio...\n",
       "1    {TV,\"Cable TV\",Internet,\"Wireless Internet\",\"A...\n",
       "2    {TV,Internet,\"Wireless Internet\",\"Air conditio...\n",
       "3    {TV,\"Wireless Internet\",Kitchen,Breakfast,\"Ind...\n",
       "4    {TV,Internet,\"Wireless Internet\",\"Air conditio...\n",
       "Name: amenities, dtype: object"
      ]
     },
     "execution_count": 147,
     "metadata": {},
     "output_type": "execute_result"
    }
   ],
   "source": [
    "#houses_test.head()\n",
    "from sklearn.preprocessing import OneHotEncoder \n",
    "houses_train['amenities'].head()"
   ]
  },
  {
   "cell_type": "code",
   "execution_count": 148,
   "metadata": {},
   "outputs": [
    {
     "data": {
      "text/plain": [
       "0       TV,Internet,\"Wireless Internet\",\"Air condition...\n",
       "1       TV,\"Cable TV\",Internet,\"Wireless Internet\",\"Ai...\n",
       "2       TV,Internet,\"Wireless Internet\",\"Air condition...\n",
       "3       TV,\"Wireless Internet\",Kitchen,Breakfast,\"Indo...\n",
       "4       TV,Internet,\"Wireless Internet\",\"Air condition...\n",
       "                              ...                        \n",
       "1995    TV,\"Wireless Internet\",Kitchen,\"Free parking o...\n",
       "1996    TV,\"Cable TV\",Internet,\"Wireless Internet\",\"Ai...\n",
       "1997    \"Wireless Internet\",\"Air conditioning\",Kitchen...\n",
       "1998    TV,\"Cable TV\",\"Wireless Internet\",\"Air conditi...\n",
       "1999    TV,Internet,\"Wireless Internet\",\"Air condition...\n",
       "Name: amenities, Length: 2000, dtype: object"
      ]
     },
     "execution_count": 148,
     "metadata": {},
     "output_type": "execute_result"
    }
   ],
   "source": [
    "houses_train['amenities']=houses_train['amenities'].str.replace(\"{\",\"\")\n",
    "houses_train['amenities']=houses_train['amenities'].str.replace(\"}\",\"\")\n",
    "houses_train['amenities']"
   ]
  },
  {
   "cell_type": "code",
   "execution_count": 149,
   "metadata": {},
   "outputs": [
    {
     "data": {
      "text/plain": [
       "['\"Paid parking off premises\"',\n",
       " '\"Wide hallway clearance\"',\n",
       " '\"Children’s books and toys\"',\n",
       " 'Bathtub',\n",
       " '\"Smart lock\"',\n",
       " '\"Air conditioning\"',\n",
       " '\"Free parking on premises\"',\n",
       " '\"Free parking on street\"',\n",
       " 'Shampoo',\n",
       " '\"Accessible-height bed\"',\n",
       " 'Breakfast',\n",
       " '\"Pets allowed\"',\n",
       " '\"Private entrance\"',\n",
       " 'Iron',\n",
       " ' smooth pathway to front door\"',\n",
       " '\"Pocket wifi\"',\n",
       " '\"Fixed grab bars for shower & toilet\"',\n",
       " 'Elevator',\n",
       " '\"Fireplace guards\"',\n",
       " '\"Suitable for events\"',\n",
       " 'Pool',\n",
       " '\"Wheelchair accessible\"',\n",
       " '\"Outlet covers\"',\n",
       " '\"Changing table\"',\n",
       " '\"Dishes and silverware\"',\n",
       " '\"Well-lit path to entrance\"',\n",
       " '\"Babysitter recommendations\"',\n",
       " 'Smartlock',\n",
       " '\"Hot water kettle\"',\n",
       " '\"Doorman Entry\"',\n",
       " 'Oven',\n",
       " '\"Patio or balcony\"',\n",
       " '\"Cooking basics\"',\n",
       " '\"Safety card\"',\n",
       " 'Washer',\n",
       " 'Doorman',\n",
       " '\"Wireless Internet\"',\n",
       " '\"Smoke detector\"',\n",
       " 'Hangers',\n",
       " '\"Lock on bedroom door\"',\n",
       " 'Beachfront',\n",
       " '\"Flat',\n",
       " 'Lockbox',\n",
       " '\"Disabled parking spot\"',\n",
       " '\"Hot tub\"',\n",
       " '\"Carbon monoxide detector\"',\n",
       " '\"Extra pillows and blankets\"',\n",
       " '\"Buzzer/wireless intercom\"',\n",
       " '\"Long term stays allowed\"',\n",
       " '\"Garden or backyard\"',\n",
       " '\"Smoking allowed\"',\n",
       " '\"Game console\"',\n",
       " '\"Coffee maker\"',\n",
       " '\"First aid kit\"',\n",
       " 'Internet',\n",
       " '\"Wide entryway\"',\n",
       " 'Dishwasher',\n",
       " '\"Step-free access\"',\n",
       " '\"Accessible-height toilet\"',\n",
       " '\"Children’s dinnerware\"',\n",
       " '\"BBQ grill\"',\n",
       " 'Kitchen',\n",
       " '\"Cable TV\"',\n",
       " 'Crib',\n",
       " '\"Handheld shower head\"',\n",
       " '\"Single level home\"',\n",
       " '\"Stair gates\"',\n",
       " '\"Firm mattress\"',\n",
       " '\"Self Check-In\"',\n",
       " '\"Other pet(s)\"',\n",
       " '\"Host greets you\"',\n",
       " '\"Pets live on this property\"',\n",
       " '\"Indoor fireplace\"',\n",
       " '\"Family/kid friendly\"',\n",
       " 'TV',\n",
       " '\"translation missing: en.hosting_amenity_50\"',\n",
       " '\"24-hour check-in\"',\n",
       " 'Waterfront',\n",
       " 'Refrigerator',\n",
       " '\"Roll-in shower with chair\"',\n",
       " '\"Ski in/Ski out\"',\n",
       " '\"Baby monitor\"',\n",
       " '\"Table corner guards\"',\n",
       " '\"Pack ’n Play/travel crib\"',\n",
       " '\"Hot water\"',\n",
       " 'Other',\n",
       " '\"EV charger\"',\n",
       " 'Dryer',\n",
       " '\"Wide doorway\"',\n",
       " '\"Wide clearance to shower & toilet\"',\n",
       " '\"Private bathroom\"',\n",
       " '\"Baby bath\"',\n",
       " '\"Luggage dropoff allowed\"',\n",
       " 'Microwave',\n",
       " 'Cat(s)',\n",
       " '\"Room-darkening shades\"',\n",
       " '\"Laptop friendly workspace\"',\n",
       " '\"Hair dryer\"',\n",
       " '\"Elevator in building\"',\n",
       " 'Essentials',\n",
       " '\"Window guards\"',\n",
       " '\"High chair\"',\n",
       " 'Keypad',\n",
       " '\"Wide clearance to bed\"',\n",
       " 'Stove',\n",
       " '\"Bathtub with shower chair\"',\n",
       " '\"Bed linens\"',\n",
       " '\"Ethernet connection\"',\n",
       " '\"translation missing: en.hosting_amenity_49\"',\n",
       " '\"Private living room\"',\n",
       " '\"Beach essentials\"',\n",
       " 'Heating',\n",
       " '\"Fire extinguisher\"',\n",
       " '\"Cleaning before checkout\"',\n",
       " 'Dog(s)',\n",
       " 'Gym',\n",
       " '\"Washer / Dryer\"']"
      ]
     },
     "execution_count": 149,
     "metadata": {},
     "output_type": "execute_result"
    }
   ],
   "source": [
    "count=0\n",
    "lst=[]\n",
    "for i in houses_train['amenities']:\n",
    "    st=i.split(',')\n",
    "    lst.extend(st)\n",
    "    lst=set(lst)\n",
    "    lst=list(lst)\n",
    "    count+=1\n",
    "    #if count==3:\n",
    "    #    break\n",
    "\n",
    "#print(lst)\n",
    "#print(i)\n",
    "j=houses_train['amenities'][0]\n",
    "#print(j.split(','))\n",
    "l=j.split(',')\n",
    "k=list(i.split(','))\n",
    "#i.split(',').replace(\"{\",\"\").replace(\"}\",\"\")\n",
    "\n",
    "len(lst)\n",
    "lst.pop(0)\n",
    "lst"
   ]
  },
  {
   "cell_type": "code",
   "execution_count": 150,
   "metadata": {},
   "outputs": [
    {
     "data": {
      "text/plain": [
       "0       0\n",
       "1       0\n",
       "2       0\n",
       "3       0\n",
       "4       0\n",
       "       ..\n",
       "1995    0\n",
       "1996    0\n",
       "1997    0\n",
       "1998    0\n",
       "1999    0\n",
       "Name: \"Changing table\", Length: 2000, dtype: int64"
      ]
     },
     "execution_count": 150,
     "metadata": {},
     "output_type": "execute_result"
    }
   ],
   "source": [
    "houses_train_copy=houses_train.copy()\n",
    "for i in lst:\n",
    "    houses_train_copy[i]=0\n",
    "#houses_train_copy['\"Changing table\"']\n",
    "st=[]\n",
    "row=0\n",
    "for i in houses_train_copy['amenities']:\n",
    "    st=i.split(',')\n",
    "    for i in st:\n",
    "        houses_train_copy.loc[row,i]=1\n",
    "        #houses_train_copy[i][row]=1\n",
    "    row+=1\n",
    "houses_train_copy['\"Changing table\"']"
   ]
  },
  {
   "cell_type": "code",
   "execution_count": 15,
   "metadata": {},
   "outputs": [],
   "source": [
    "#houses_train_copy=houses_train_copy.iloc[:,0:151]\n",
    "#print(houses_train_copy.iloc[:,150].value_counts())\n",
    "#print(houses_train_copy.iloc[:,150].head())"
   ]
  },
  {
   "cell_type": "code",
   "execution_count": 151,
   "metadata": {},
   "outputs": [
    {
     "data": {
      "text/html": [
       "<div>\n",
       "<style scoped>\n",
       "    .dataframe tbody tr th:only-of-type {\n",
       "        vertical-align: middle;\n",
       "    }\n",
       "\n",
       "    .dataframe tbody tr th {\n",
       "        vertical-align: top;\n",
       "    }\n",
       "\n",
       "    .dataframe thead th {\n",
       "        text-align: right;\n",
       "    }\n",
       "</style>\n",
       "<table border=\"1\" class=\"dataframe\">\n",
       "  <thead>\n",
       "    <tr style=\"text-align: right;\">\n",
       "      <th></th>\n",
       "      <th>id</th>\n",
       "      <th>property_type</th>\n",
       "      <th>room_type</th>\n",
       "      <th>amenities</th>\n",
       "      <th>accommodates</th>\n",
       "      <th>bathrooms</th>\n",
       "      <th>bed_type</th>\n",
       "      <th>cancellation_policy</th>\n",
       "      <th>cleaning_fee</th>\n",
       "      <th>city</th>\n",
       "      <th>...</th>\n",
       "      <th>\"translation missing: en.hosting_amenity_49\"</th>\n",
       "      <th>\"Private living room\"</th>\n",
       "      <th>\"Beach essentials\"</th>\n",
       "      <th>Heating</th>\n",
       "      <th>\"Fire extinguisher\"</th>\n",
       "      <th>\"Cleaning before checkout\"</th>\n",
       "      <th>Dog(s)</th>\n",
       "      <th>Gym</th>\n",
       "      <th>\"Washer / Dryer\"</th>\n",
       "      <th></th>\n",
       "    </tr>\n",
       "  </thead>\n",
       "  <tbody>\n",
       "    <tr>\n",
       "      <th>167</th>\n",
       "      <td>2560624</td>\n",
       "      <td>House</td>\n",
       "      <td>Entire home/apt</td>\n",
       "      <td>TV,\"Wireless Internet\",\"Air conditioning\",Pool...</td>\n",
       "      <td>9</td>\n",
       "      <td>3.0</td>\n",
       "      <td>Real Bed</td>\n",
       "      <td>moderate</td>\n",
       "      <td>True</td>\n",
       "      <td>LA</td>\n",
       "      <td>...</td>\n",
       "      <td>0</td>\n",
       "      <td>0</td>\n",
       "      <td>0</td>\n",
       "      <td>1</td>\n",
       "      <td>1</td>\n",
       "      <td>0</td>\n",
       "      <td>0</td>\n",
       "      <td>0</td>\n",
       "      <td>0</td>\n",
       "      <td>NaN</td>\n",
       "    </tr>\n",
       "    <tr>\n",
       "      <th>874</th>\n",
       "      <td>6827028</td>\n",
       "      <td>House</td>\n",
       "      <td>Entire home/apt</td>\n",
       "      <td>TV,Internet,\"Wireless Internet\",Kitchen,\"Pets ...</td>\n",
       "      <td>5</td>\n",
       "      <td>1.0</td>\n",
       "      <td>Real Bed</td>\n",
       "      <td>moderate</td>\n",
       "      <td>True</td>\n",
       "      <td>SF</td>\n",
       "      <td>...</td>\n",
       "      <td>0</td>\n",
       "      <td>0</td>\n",
       "      <td>0</td>\n",
       "      <td>1</td>\n",
       "      <td>0</td>\n",
       "      <td>0</td>\n",
       "      <td>0</td>\n",
       "      <td>0</td>\n",
       "      <td>0</td>\n",
       "      <td>NaN</td>\n",
       "    </tr>\n",
       "    <tr>\n",
       "      <th>1096</th>\n",
       "      <td>7518967</td>\n",
       "      <td>Apartment</td>\n",
       "      <td>Entire home/apt</td>\n",
       "      <td>TV,\"Cable TV\",\"Wireless Internet\",\"Air conditi...</td>\n",
       "      <td>7</td>\n",
       "      <td>2.0</td>\n",
       "      <td>Real Bed</td>\n",
       "      <td>flexible</td>\n",
       "      <td>True</td>\n",
       "      <td>NYC</td>\n",
       "      <td>...</td>\n",
       "      <td>0</td>\n",
       "      <td>0</td>\n",
       "      <td>0</td>\n",
       "      <td>1</td>\n",
       "      <td>1</td>\n",
       "      <td>0</td>\n",
       "      <td>0</td>\n",
       "      <td>1</td>\n",
       "      <td>0</td>\n",
       "      <td>NaN</td>\n",
       "    </tr>\n",
       "    <tr>\n",
       "      <th>1105</th>\n",
       "      <td>7382294</td>\n",
       "      <td>Apartment</td>\n",
       "      <td>Entire home/apt</td>\n",
       "      <td>TV,\"Cable TV\",Internet,\"Wireless Internet\",\"Ai...</td>\n",
       "      <td>4</td>\n",
       "      <td>2.0</td>\n",
       "      <td>Real Bed</td>\n",
       "      <td>moderate</td>\n",
       "      <td>True</td>\n",
       "      <td>NYC</td>\n",
       "      <td>...</td>\n",
       "      <td>0</td>\n",
       "      <td>0</td>\n",
       "      <td>0</td>\n",
       "      <td>1</td>\n",
       "      <td>1</td>\n",
       "      <td>0</td>\n",
       "      <td>0</td>\n",
       "      <td>0</td>\n",
       "      <td>0</td>\n",
       "      <td>NaN</td>\n",
       "    </tr>\n",
       "    <tr>\n",
       "      <th>1153</th>\n",
       "      <td>19998578</td>\n",
       "      <td>Loft</td>\n",
       "      <td>Entire home/apt</td>\n",
       "      <td>TV,\"Cable TV\",Internet,\"Wireless Internet\",\"Ai...</td>\n",
       "      <td>8</td>\n",
       "      <td>2.0</td>\n",
       "      <td>Real Bed</td>\n",
       "      <td>strict</td>\n",
       "      <td>True</td>\n",
       "      <td>NYC</td>\n",
       "      <td>...</td>\n",
       "      <td>0</td>\n",
       "      <td>0</td>\n",
       "      <td>0</td>\n",
       "      <td>1</td>\n",
       "      <td>1</td>\n",
       "      <td>0</td>\n",
       "      <td>0</td>\n",
       "      <td>0</td>\n",
       "      <td>0</td>\n",
       "      <td>NaN</td>\n",
       "    </tr>\n",
       "    <tr>\n",
       "      <th>1786</th>\n",
       "      <td>18915587</td>\n",
       "      <td>House</td>\n",
       "      <td>Entire home/apt</td>\n",
       "      <td>TV,\"Wireless Internet\",\"Air conditioning\",Kitc...</td>\n",
       "      <td>4</td>\n",
       "      <td>1.5</td>\n",
       "      <td>Real Bed</td>\n",
       "      <td>strict</td>\n",
       "      <td>False</td>\n",
       "      <td>Boston</td>\n",
       "      <td>...</td>\n",
       "      <td>0</td>\n",
       "      <td>0</td>\n",
       "      <td>0</td>\n",
       "      <td>1</td>\n",
       "      <td>1</td>\n",
       "      <td>0</td>\n",
       "      <td>0</td>\n",
       "      <td>0</td>\n",
       "      <td>0</td>\n",
       "      <td>NaN</td>\n",
       "    </tr>\n",
       "  </tbody>\n",
       "</table>\n",
       "<p>6 rows × 146 columns</p>\n",
       "</div>"
      ],
      "text/plain": [
       "            id property_type        room_type  \\\n",
       "167    2560624         House  Entire home/apt   \n",
       "874    6827028         House  Entire home/apt   \n",
       "1096   7518967     Apartment  Entire home/apt   \n",
       "1105   7382294     Apartment  Entire home/apt   \n",
       "1153  19998578          Loft  Entire home/apt   \n",
       "1786  18915587         House  Entire home/apt   \n",
       "\n",
       "                                              amenities  accommodates  \\\n",
       "167   TV,\"Wireless Internet\",\"Air conditioning\",Pool...             9   \n",
       "874   TV,Internet,\"Wireless Internet\",Kitchen,\"Pets ...             5   \n",
       "1096  TV,\"Cable TV\",\"Wireless Internet\",\"Air conditi...             7   \n",
       "1105  TV,\"Cable TV\",Internet,\"Wireless Internet\",\"Ai...             4   \n",
       "1153  TV,\"Cable TV\",Internet,\"Wireless Internet\",\"Ai...             8   \n",
       "1786  TV,\"Wireless Internet\",\"Air conditioning\",Kitc...             4   \n",
       "\n",
       "      bathrooms  bed_type cancellation_policy  cleaning_fee    city  ...  \\\n",
       "167         3.0  Real Bed            moderate          True      LA  ...   \n",
       "874         1.0  Real Bed            moderate          True      SF  ...   \n",
       "1096        2.0  Real Bed            flexible          True     NYC  ...   \n",
       "1105        2.0  Real Bed            moderate          True     NYC  ...   \n",
       "1153        2.0  Real Bed              strict          True     NYC  ...   \n",
       "1786        1.5  Real Bed              strict         False  Boston  ...   \n",
       "\n",
       "     \"translation missing: en.hosting_amenity_49\" \"Private living room\"  \\\n",
       "167                                             0                     0   \n",
       "874                                             0                     0   \n",
       "1096                                            0                     0   \n",
       "1105                                            0                     0   \n",
       "1153                                            0                     0   \n",
       "1786                                            0                     0   \n",
       "\n",
       "     \"Beach essentials\" Heating \"Fire extinguisher\"  \\\n",
       "167                   0       1                   1   \n",
       "874                   0       1                   0   \n",
       "1096                  0       1                   1   \n",
       "1105                  0       1                   1   \n",
       "1153                  0       1                   1   \n",
       "1786                  0       1                   1   \n",
       "\n",
       "     \"Cleaning before checkout\" Dog(s) Gym  \"Washer / Dryer\"      \n",
       "167                           0      0   0                 0 NaN  \n",
       "874                           0      0   0                 0 NaN  \n",
       "1096                          0      0   1                 0 NaN  \n",
       "1105                          0      0   0                 0 NaN  \n",
       "1153                          0      0   0                 0 NaN  \n",
       "1786                          0      0   0                 0 NaN  \n",
       "\n",
       "[6 rows x 146 columns]"
      ]
     },
     "execution_count": 151,
     "metadata": {},
     "output_type": "execute_result"
    }
   ],
   "source": [
    "houses_train_copy[houses_train_copy['\"Changing table\"']==1]"
   ]
  },
  {
   "cell_type": "code",
   "execution_count": 152,
   "metadata": {},
   "outputs": [
    {
     "data": {
      "text/plain": [
       "['id',\n",
       " 'property_type',\n",
       " 'room_type',\n",
       " 'amenities',\n",
       " 'accommodates',\n",
       " 'bathrooms',\n",
       " 'bed_type',\n",
       " 'cancellation_policy',\n",
       " 'cleaning_fee',\n",
       " 'city',\n",
       " 'description',\n",
       " 'first_review',\n",
       " 'host_has_profile_pic',\n",
       " 'host_identity_verified',\n",
       " 'host_response_rate',\n",
       " 'host_since',\n",
       " 'instant_bookable',\n",
       " 'last_review',\n",
       " 'latitude',\n",
       " 'longitude',\n",
       " 'name',\n",
       " 'neighbourhood',\n",
       " 'number_of_reviews',\n",
       " 'review_scores_rating',\n",
       " 'thumbnail_url',\n",
       " 'zipcode',\n",
       " 'bedrooms',\n",
       " 'beds']"
      ]
     },
     "execution_count": 152,
     "metadata": {},
     "output_type": "execute_result"
    }
   ],
   "source": [
    "list(houses_train.columns)"
   ]
  },
  {
   "cell_type": "code",
   "execution_count": 153,
   "metadata": {},
   "outputs": [
    {
     "data": {
      "text/plain": [
       "id                               0\n",
       "property_type                    0\n",
       "room_type                        0\n",
       "amenities                        0\n",
       "accommodates                     0\n",
       "bathrooms                        7\n",
       "bed_type                         0\n",
       "cancellation_policy              0\n",
       "cleaning_fee                     0\n",
       "city                             0\n",
       "description                      0\n",
       "first_review                   408\n",
       "host_has_profile_pic             4\n",
       "host_identity_verified           4\n",
       "host_response_rate             509\n",
       "host_since                       4\n",
       "instant_bookable                 0\n",
       "last_review                    407\n",
       "latitude                         0\n",
       "longitude                        0\n",
       "name                             1\n",
       "neighbourhood                  191\n",
       "number_of_reviews                0\n",
       "review_scores_rating           426\n",
       "thumbnail_url                  236\n",
       "zipcode                         27\n",
       "bedrooms                         2\n",
       "beds                             2\n",
       "\"Paid parking off premises\"      0\n",
       "\"Wide hallway clearance\"         0\n",
       "\"Children’s books and toys\"      0\n",
       "Bathtub                          0\n",
       "\"Smart lock\"                     0\n",
       "\"Air conditioning\"               0\n",
       "\"Free parking on premises\"       0\n",
       "\"Free parking on street\"         0\n",
       "Shampoo                          0\n",
       "\"Accessible-height bed\"          0\n",
       "Breakfast                        0\n",
       "\"Pets allowed\"                   0\n",
       "dtype: int64"
      ]
     },
     "execution_count": 153,
     "metadata": {},
     "output_type": "execute_result"
    }
   ],
   "source": [
    "#sorted(houses_train_copy.isnull().sum(),reverse=True)\n",
    "houses_train_copy.iloc[:,0:40].isnull().sum()\n",
    "# bathrooms, first_review, host_has_profile_pic, host_identity_verified, host_response_rate, host_since, last_review\n",
    "# neighbourhood, review_scores_rating, thumbnail_url, zipcode, bedrooms, beds"
   ]
  },
  {
   "cell_type": "code",
   "execution_count": 88,
   "metadata": {},
   "outputs": [],
   "source": [
    "#houses_train_copy['bathrooms']=houses_train_copy['bathrooms'].apply(np.floor)"
   ]
  },
  {
   "cell_type": "code",
   "execution_count": 154,
   "metadata": {},
   "outputs": [
    {
     "data": {
      "text/html": [
       "<div>\n",
       "<style scoped>\n",
       "    .dataframe tbody tr th:only-of-type {\n",
       "        vertical-align: middle;\n",
       "    }\n",
       "\n",
       "    .dataframe tbody tr th {\n",
       "        vertical-align: top;\n",
       "    }\n",
       "\n",
       "    .dataframe thead th {\n",
       "        text-align: right;\n",
       "    }\n",
       "</style>\n",
       "<table border=\"1\" class=\"dataframe\">\n",
       "  <thead>\n",
       "    <tr style=\"text-align: right;\">\n",
       "      <th></th>\n",
       "      <th>id</th>\n",
       "      <th>property_type</th>\n",
       "      <th>room_type</th>\n",
       "      <th>amenities</th>\n",
       "      <th>accommodates</th>\n",
       "      <th>bathrooms</th>\n",
       "      <th>bed_type</th>\n",
       "      <th>cancellation_policy</th>\n",
       "      <th>cleaning_fee</th>\n",
       "      <th>city</th>\n",
       "      <th>...</th>\n",
       "      <th>\"translation missing: en.hosting_amenity_49\"</th>\n",
       "      <th>\"Private living room\"</th>\n",
       "      <th>\"Beach essentials\"</th>\n",
       "      <th>Heating</th>\n",
       "      <th>\"Fire extinguisher\"</th>\n",
       "      <th>\"Cleaning before checkout\"</th>\n",
       "      <th>Dog(s)</th>\n",
       "      <th>Gym</th>\n",
       "      <th>\"Washer / Dryer\"</th>\n",
       "      <th></th>\n",
       "    </tr>\n",
       "  </thead>\n",
       "  <tbody>\n",
       "    <tr>\n",
       "      <th>0</th>\n",
       "      <td>6375849</td>\n",
       "      <td>Bungalow</td>\n",
       "      <td>Private room</td>\n",
       "      <td>TV,Internet,\"Wireless Internet\",\"Air condition...</td>\n",
       "      <td>2</td>\n",
       "      <td>1.0</td>\n",
       "      <td>Real Bed</td>\n",
       "      <td>strict</td>\n",
       "      <td>True</td>\n",
       "      <td>LA</td>\n",
       "      <td>...</td>\n",
       "      <td>0</td>\n",
       "      <td>0</td>\n",
       "      <td>0</td>\n",
       "      <td>1</td>\n",
       "      <td>0</td>\n",
       "      <td>0</td>\n",
       "      <td>0</td>\n",
       "      <td>0</td>\n",
       "      <td>0</td>\n",
       "      <td>NaN</td>\n",
       "    </tr>\n",
       "    <tr>\n",
       "      <th>1</th>\n",
       "      <td>4188426</td>\n",
       "      <td>Apartment</td>\n",
       "      <td>Entire home/apt</td>\n",
       "      <td>TV,\"Cable TV\",Internet,\"Wireless Internet\",\"Ai...</td>\n",
       "      <td>2</td>\n",
       "      <td>1.0</td>\n",
       "      <td>Real Bed</td>\n",
       "      <td>strict</td>\n",
       "      <td>True</td>\n",
       "      <td>LA</td>\n",
       "      <td>...</td>\n",
       "      <td>0</td>\n",
       "      <td>0</td>\n",
       "      <td>0</td>\n",
       "      <td>1</td>\n",
       "      <td>0</td>\n",
       "      <td>0</td>\n",
       "      <td>0</td>\n",
       "      <td>0</td>\n",
       "      <td>0</td>\n",
       "      <td>NaN</td>\n",
       "    </tr>\n",
       "    <tr>\n",
       "      <th>2</th>\n",
       "      <td>12090887</td>\n",
       "      <td>Apartment</td>\n",
       "      <td>Entire home/apt</td>\n",
       "      <td>TV,Internet,\"Wireless Internet\",\"Air condition...</td>\n",
       "      <td>3</td>\n",
       "      <td>1.0</td>\n",
       "      <td>Real Bed</td>\n",
       "      <td>strict</td>\n",
       "      <td>True</td>\n",
       "      <td>LA</td>\n",
       "      <td>...</td>\n",
       "      <td>0</td>\n",
       "      <td>0</td>\n",
       "      <td>0</td>\n",
       "      <td>1</td>\n",
       "      <td>0</td>\n",
       "      <td>0</td>\n",
       "      <td>0</td>\n",
       "      <td>1</td>\n",
       "      <td>0</td>\n",
       "      <td>NaN</td>\n",
       "    </tr>\n",
       "    <tr>\n",
       "      <th>3</th>\n",
       "      <td>4150932</td>\n",
       "      <td>House</td>\n",
       "      <td>Entire home/apt</td>\n",
       "      <td>TV,\"Wireless Internet\",Kitchen,Breakfast,\"Indo...</td>\n",
       "      <td>4</td>\n",
       "      <td>2.0</td>\n",
       "      <td>Real Bed</td>\n",
       "      <td>strict</td>\n",
       "      <td>False</td>\n",
       "      <td>LA</td>\n",
       "      <td>...</td>\n",
       "      <td>1</td>\n",
       "      <td>0</td>\n",
       "      <td>0</td>\n",
       "      <td>1</td>\n",
       "      <td>0</td>\n",
       "      <td>0</td>\n",
       "      <td>0</td>\n",
       "      <td>0</td>\n",
       "      <td>0</td>\n",
       "      <td>NaN</td>\n",
       "    </tr>\n",
       "    <tr>\n",
       "      <th>4</th>\n",
       "      <td>883306</td>\n",
       "      <td>Apartment</td>\n",
       "      <td>Entire home/apt</td>\n",
       "      <td>TV,Internet,\"Wireless Internet\",\"Air condition...</td>\n",
       "      <td>4</td>\n",
       "      <td>1.0</td>\n",
       "      <td>Real Bed</td>\n",
       "      <td>strict</td>\n",
       "      <td>True</td>\n",
       "      <td>NYC</td>\n",
       "      <td>...</td>\n",
       "      <td>0</td>\n",
       "      <td>0</td>\n",
       "      <td>0</td>\n",
       "      <td>1</td>\n",
       "      <td>0</td>\n",
       "      <td>0</td>\n",
       "      <td>0</td>\n",
       "      <td>0</td>\n",
       "      <td>0</td>\n",
       "      <td>NaN</td>\n",
       "    </tr>\n",
       "  </tbody>\n",
       "</table>\n",
       "<p>5 rows × 146 columns</p>\n",
       "</div>"
      ],
      "text/plain": [
       "         id property_type        room_type  \\\n",
       "0   6375849      Bungalow     Private room   \n",
       "1   4188426     Apartment  Entire home/apt   \n",
       "2  12090887     Apartment  Entire home/apt   \n",
       "3   4150932         House  Entire home/apt   \n",
       "4    883306     Apartment  Entire home/apt   \n",
       "\n",
       "                                           amenities  accommodates  bathrooms  \\\n",
       "0  TV,Internet,\"Wireless Internet\",\"Air condition...             2        1.0   \n",
       "1  TV,\"Cable TV\",Internet,\"Wireless Internet\",\"Ai...             2        1.0   \n",
       "2  TV,Internet,\"Wireless Internet\",\"Air condition...             3        1.0   \n",
       "3  TV,\"Wireless Internet\",Kitchen,Breakfast,\"Indo...             4        2.0   \n",
       "4  TV,Internet,\"Wireless Internet\",\"Air condition...             4        1.0   \n",
       "\n",
       "   bed_type cancellation_policy  cleaning_fee city  ...  \\\n",
       "0  Real Bed              strict          True   LA  ...   \n",
       "1  Real Bed              strict          True   LA  ...   \n",
       "2  Real Bed              strict          True   LA  ...   \n",
       "3  Real Bed              strict         False   LA  ...   \n",
       "4  Real Bed              strict          True  NYC  ...   \n",
       "\n",
       "  \"translation missing: en.hosting_amenity_49\" \"Private living room\"  \\\n",
       "0                                            0                     0   \n",
       "1                                            0                     0   \n",
       "2                                            0                     0   \n",
       "3                                            1                     0   \n",
       "4                                            0                     0   \n",
       "\n",
       "  \"Beach essentials\" Heating \"Fire extinguisher\" \"Cleaning before checkout\"  \\\n",
       "0                  0       1                   0                          0   \n",
       "1                  0       1                   0                          0   \n",
       "2                  0       1                   0                          0   \n",
       "3                  0       1                   0                          0   \n",
       "4                  0       1                   0                          0   \n",
       "\n",
       "  Dog(s) Gym  \"Washer / Dryer\"      \n",
       "0      0   0                 0 NaN  \n",
       "1      0   0                 0 NaN  \n",
       "2      0   1                 0 NaN  \n",
       "3      0   0                 0 NaN  \n",
       "4      0   0                 0 NaN  \n",
       "\n",
       "[5 rows x 146 columns]"
      ]
     },
     "execution_count": 154,
     "metadata": {},
     "output_type": "execute_result"
    }
   ],
   "source": [
    "houses_train_copy.head()"
   ]
  },
  {
   "cell_type": "code",
   "execution_count": 90,
   "metadata": {},
   "outputs": [],
   "source": [
    "#houses_train_copy['bathrooms']=pd.to_numeric(houses_train_copy['bathrooms'], downcast='integer')\n",
    "#houses_train_copy['bathrooms']=houses_train_copy['bathrooms'].astype(int)"
   ]
  },
  {
   "cell_type": "code",
   "execution_count": 159,
   "metadata": {},
   "outputs": [
    {
     "data": {
      "text/plain": [
       "(2000, 146)"
      ]
     },
     "execution_count": 159,
     "metadata": {},
     "output_type": "execute_result"
    }
   ],
   "source": [
    "houses_train_copy.head()\n",
    "houses_train_copy.ndim\n",
    "houses_train_copy.shape"
   ]
  },
  {
   "cell_type": "code",
   "execution_count": 160,
   "metadata": {},
   "outputs": [
    {
     "data": {
      "text/html": [
       "<div>\n",
       "<style scoped>\n",
       "    .dataframe tbody tr th:only-of-type {\n",
       "        vertical-align: middle;\n",
       "    }\n",
       "\n",
       "    .dataframe tbody tr th {\n",
       "        vertical-align: top;\n",
       "    }\n",
       "\n",
       "    .dataframe thead th {\n",
       "        text-align: right;\n",
       "    }\n",
       "</style>\n",
       "<table border=\"1\" class=\"dataframe\">\n",
       "  <thead>\n",
       "    <tr style=\"text-align: right;\">\n",
       "      <th></th>\n",
       "      <th>host_since</th>\n",
       "      <th>host_identity_verified</th>\n",
       "      <th>host_has_profile_pic</th>\n",
       "    </tr>\n",
       "  </thead>\n",
       "  <tbody>\n",
       "    <tr>\n",
       "      <th>509</th>\n",
       "      <td>NaN</td>\n",
       "      <td>NaN</td>\n",
       "      <td>NaN</td>\n",
       "    </tr>\n",
       "    <tr>\n",
       "      <th>660</th>\n",
       "      <td>NaN</td>\n",
       "      <td>NaN</td>\n",
       "      <td>NaN</td>\n",
       "    </tr>\n",
       "    <tr>\n",
       "      <th>1349</th>\n",
       "      <td>NaN</td>\n",
       "      <td>NaN</td>\n",
       "      <td>NaN</td>\n",
       "    </tr>\n",
       "    <tr>\n",
       "      <th>1758</th>\n",
       "      <td>NaN</td>\n",
       "      <td>NaN</td>\n",
       "      <td>NaN</td>\n",
       "    </tr>\n",
       "  </tbody>\n",
       "</table>\n",
       "</div>"
      ],
      "text/plain": [
       "     host_since host_identity_verified host_has_profile_pic\n",
       "509         NaN                    NaN                  NaN\n",
       "660         NaN                    NaN                  NaN\n",
       "1349        NaN                    NaN                  NaN\n",
       "1758        NaN                    NaN                  NaN"
      ]
     },
     "execution_count": 160,
     "metadata": {},
     "output_type": "execute_result"
    }
   ],
   "source": [
    "# bathrooms, first_review, host_has_profile_pic, host_identity_verified, host_response_rate, host_since, last_review\n",
    "# neighbourhood, review_scores_rating, thumbnail_url, zipcode, bedrooms, beds\n",
    "\n",
    "#sorted(houses_train_copy.isnull().sum(),reverse=True)\n",
    "houses_train_copy.iloc[:,0:41].isnull().sum()\n",
    "#host_has_profile_pic        21\n",
    "#host_identity_verified      21\n",
    "#host_since                  21\n",
    "#houses_train_copy[houses_train_copy[\"host_has_profile_pic\"]==np.nan]\n",
    "houses_train_copy[pd.isnull(houses_train_copy[\"host_has_profile_pic\"])][{\"host_has_profile_pic\",\"host_identity_verified\",\"host_since\"}]"
   ]
  },
  {
   "cell_type": "code",
   "execution_count": 93,
   "metadata": {},
   "outputs": [
    {
     "data": {
      "text/plain": [
       "<pandas.core.indexing._iLocIndexer at 0x19a57999408>"
      ]
     },
     "execution_count": 93,
     "metadata": {},
     "output_type": "execute_result"
    }
   ],
   "source": [
    "indx=houses_train_copy[pd.isnull(houses_train_copy[\"host_has_profile_pic\"])].iloc()\n",
    "#list(indx)\n",
    "indx"
   ]
  },
  {
   "cell_type": "code",
   "execution_count": 161,
   "metadata": {},
   "outputs": [
    {
     "data": {
      "text/plain": [
       "id                                         0\n",
       "property_type                              0\n",
       "room_type                                  0\n",
       "amenities                                  0\n",
       "accommodates                               0\n",
       "bathrooms                                  7\n",
       "bed_type                                   0\n",
       "cancellation_policy                        0\n",
       "cleaning_fee                               0\n",
       "city                                       0\n",
       "description                                0\n",
       "first_review                             408\n",
       "host_has_profile_pic                       4\n",
       "host_identity_verified                     4\n",
       "host_response_rate                       509\n",
       "host_since                                 4\n",
       "instant_bookable                           0\n",
       "last_review                              407\n",
       "latitude                                   0\n",
       "longitude                                  0\n",
       "name                                       1\n",
       "neighbourhood                            191\n",
       "number_of_reviews                          0\n",
       "review_scores_rating                     426\n",
       "thumbnail_url                            236\n",
       "zipcode                                   27\n",
       "bedrooms                                   2\n",
       "beds                                       2\n",
       "\"Paid parking off premises\"                0\n",
       "\"Wide hallway clearance\"                   0\n",
       "\"Children’s books and toys\"                0\n",
       "Bathtub                                    0\n",
       "\"Smart lock\"                               0\n",
       "\"Air conditioning\"                         0\n",
       "\"Free parking on premises\"                 0\n",
       "\"Free parking on street\"                   0\n",
       "Shampoo                                    0\n",
       "\"Accessible-height bed\"                    0\n",
       "Breakfast                                  0\n",
       "\"Pets allowed\"                             0\n",
       "\"Private entrance\"                         0\n",
       "Iron                                       0\n",
       " smooth pathway to front door\"             0\n",
       "\"Pocket wifi\"                              0\n",
       "\"Fixed grab bars for shower & toilet\"      0\n",
       "Elevator                                   0\n",
       "\"Fireplace guards\"                         0\n",
       "\"Suitable for events\"                      0\n",
       "Pool                                       0\n",
       "\"Wheelchair accessible\"                    0\n",
       "dtype: int64"
      ]
     },
     "execution_count": 161,
     "metadata": {},
     "output_type": "execute_result"
    }
   ],
   "source": [
    "#houses_train_copy.dropna(subset=['host_has_profile_pic'], inplace=True)\n",
    "houses_train_copy.iloc[:,0:50].isnull().sum()"
   ]
  },
  {
   "cell_type": "code",
   "execution_count": 95,
   "metadata": {},
   "outputs": [
    {
     "data": {
      "text/plain": [
       "Williamsburg          79\n",
       "Bushwick              60\n",
       "Bedford-Stuyvesant    52\n",
       "Hollywood             41\n",
       "Mid-Wilshire          40\n",
       "                      ..\n",
       "Dongan Hills           1\n",
       "Montecito Heights      1\n",
       "Bellevue               1\n",
       "Lynwood                1\n",
       "Carson                 1\n",
       "Name: neighbourhood, Length: 330, dtype: int64"
      ]
     },
     "execution_count": 95,
     "metadata": {},
     "output_type": "execute_result"
    }
   ],
   "source": [
    "houses_train_copy[\"neighbourhood\"].value_counts()"
   ]
  },
  {
   "cell_type": "code",
   "execution_count": 96,
   "metadata": {},
   "outputs": [
    {
     "data": {
      "text/plain": [
       "NYC        880\n",
       "LA         588\n",
       "SF         172\n",
       "DC         162\n",
       "Chicago    108\n",
       "Boston      86\n",
       "Name: city, dtype: int64"
      ]
     },
     "execution_count": 96,
     "metadata": {},
     "output_type": "execute_result"
    }
   ],
   "source": [
    "houses_train_copy[\"city\"].value_counts()"
   ]
  },
  {
   "cell_type": "code",
   "execution_count": 97,
   "metadata": {},
   "outputs": [],
   "source": [
    "#name, thumbnail_url, first_review, last_review, host_response_rate, zipcode, thumbnail_url, review_scores_rating"
   ]
  },
  {
   "cell_type": "code",
   "execution_count": 162,
   "metadata": {},
   "outputs": [],
   "source": [
    "houses_train_copy.drop([\"name\",\"thumbnail_url\",\"first_review\",\"last_review\",\"host_response_rate\",\"zipcode\",\"thumbnail_url\",\"review_scores_rating\"],axis=1,inplace=True)"
   ]
  },
  {
   "cell_type": "code",
   "execution_count": 163,
   "metadata": {},
   "outputs": [
    {
     "data": {
      "text/plain": [
       "id                                         0\n",
       "property_type                              0\n",
       "room_type                                  0\n",
       "amenities                                  0\n",
       "accommodates                               0\n",
       "bathrooms                                  7\n",
       "bed_type                                   0\n",
       "cancellation_policy                        0\n",
       "cleaning_fee                               0\n",
       "city                                       0\n",
       "description                                0\n",
       "host_has_profile_pic                       4\n",
       "host_identity_verified                     4\n",
       "host_since                                 4\n",
       "instant_bookable                           0\n",
       "latitude                                   0\n",
       "longitude                                  0\n",
       "neighbourhood                            191\n",
       "number_of_reviews                          0\n",
       "bedrooms                                   2\n",
       "beds                                       2\n",
       "\"Paid parking off premises\"                0\n",
       "\"Wide hallway clearance\"                   0\n",
       "\"Children’s books and toys\"                0\n",
       "Bathtub                                    0\n",
       "\"Smart lock\"                               0\n",
       "\"Air conditioning\"                         0\n",
       "\"Free parking on premises\"                 0\n",
       "\"Free parking on street\"                   0\n",
       "Shampoo                                    0\n",
       "\"Accessible-height bed\"                    0\n",
       "Breakfast                                  0\n",
       "\"Pets allowed\"                             0\n",
       "\"Private entrance\"                         0\n",
       "Iron                                       0\n",
       " smooth pathway to front door\"             0\n",
       "\"Pocket wifi\"                              0\n",
       "\"Fixed grab bars for shower & toilet\"      0\n",
       "Elevator                                   0\n",
       "\"Fireplace guards\"                         0\n",
       "\"Suitable for events\"                      0\n",
       "Pool                                       0\n",
       "\"Wheelchair accessible\"                    0\n",
       "\"Outlet covers\"                            0\n",
       "\"Changing table\"                           0\n",
       "\"Dishes and silverware\"                    0\n",
       "\"Well-lit path to entrance\"                0\n",
       "\"Babysitter recommendations\"               0\n",
       "Smartlock                                  0\n",
       "\"Hot water kettle\"                         0\n",
       "dtype: int64"
      ]
     },
     "execution_count": 163,
     "metadata": {},
     "output_type": "execute_result"
    }
   ],
   "source": [
    "houses_train_copy.iloc[:,0:50].isnull().sum()"
   ]
  },
  {
   "cell_type": "code",
   "execution_count": 164,
   "metadata": {},
   "outputs": [
    {
     "data": {
      "text/plain": [
       "id                                         0\n",
       "property_type                              0\n",
       "room_type                                  0\n",
       "amenities                                  0\n",
       "accommodates                               0\n",
       "bathrooms                                  7\n",
       "bed_type                                   0\n",
       "cancellation_policy                        0\n",
       "cleaning_fee                               0\n",
       "city                                       0\n",
       "description                                0\n",
       "host_has_profile_pic                       4\n",
       "host_identity_verified                     4\n",
       "host_since                                 4\n",
       "instant_bookable                           0\n",
       "latitude                                   0\n",
       "longitude                                  0\n",
       "neighbourhood                            191\n",
       "number_of_reviews                          0\n",
       "bedrooms                                   2\n",
       "beds                                       2\n",
       "\"Paid parking off premises\"                0\n",
       "\"Wide hallway clearance\"                   0\n",
       "\"Children’s books and toys\"                0\n",
       "Bathtub                                    0\n",
       "\"Smart lock\"                               0\n",
       "\"Air conditioning\"                         0\n",
       "\"Free parking on premises\"                 0\n",
       "\"Free parking on street\"                   0\n",
       "Shampoo                                    0\n",
       "\"Accessible-height bed\"                    0\n",
       "Breakfast                                  0\n",
       "\"Pets allowed\"                             0\n",
       "\"Private entrance\"                         0\n",
       "Iron                                       0\n",
       " smooth pathway to front door\"             0\n",
       "\"Pocket wifi\"                              0\n",
       "\"Fixed grab bars for shower & toilet\"      0\n",
       "Elevator                                   0\n",
       "\"Fireplace guards\"                         0\n",
       "\"Suitable for events\"                      0\n",
       "Pool                                       0\n",
       "\"Wheelchair accessible\"                    0\n",
       "\"Outlet covers\"                            0\n",
       "\"Changing table\"                           0\n",
       "\"Dishes and silverware\"                    0\n",
       "\"Well-lit path to entrance\"                0\n",
       "\"Babysitter recommendations\"               0\n",
       "Smartlock                                  0\n",
       "\"Hot water kettle\"                         0\n",
       "dtype: int64"
      ]
     },
     "execution_count": 164,
     "metadata": {},
     "output_type": "execute_result"
    }
   ],
   "source": [
    "#houses_train_copy.dropna(subset=['bathrooms','bedrooms','beds'], inplace=True)\n",
    "\n",
    "#houses_train_copy_duplicate=houses_train_copy.copy()\n",
    "\n",
    "houses_train_copy.iloc[:,0:50].isnull().sum()"
   ]
  },
  {
   "cell_type": "code",
   "execution_count": 101,
   "metadata": {},
   "outputs": [
    {
     "name": "stderr",
     "output_type": "stream",
     "text": [
      "C:\\Users\\Poori\\Anaconda3\\lib\\site-packages\\seaborn\\distributions.py:218: MatplotlibDeprecationWarning: \n",
      "The 'normed' kwarg was deprecated in Matplotlib 2.1 and will be removed in 3.1. Use 'density' instead.\n",
      "  color=hist_color, **hist_kws)\n"
     ]
    },
    {
     "data": {
      "text/plain": [
       "<seaborn.axisgrid.JointGrid at 0x19a57992a58>"
      ]
     },
     "execution_count": 101,
     "metadata": {},
     "output_type": "execute_result"
    },
    {
     "data": {
      "image/png": "[encoded data removed]",
      "text/plain": [
       "<Figure size 720x720 with 3 Axes>"
      ]
     },
     "metadata": {},
     "output_type": "display_data"
    }
   ],
   "source": [
    "import seaborn as sns\n",
    "sns.jointplot(x=houses_train_copy.latitude,y=houses_train_copy.longitude,size=10)"
   ]
  },
  {
   "cell_type": "code",
   "execution_count": 165,
   "metadata": {},
   "outputs": [
    {
     "data": {
      "text/plain": [
       "2010"
      ]
     },
     "execution_count": 165,
     "metadata": {},
     "output_type": "execute_result"
    }
   ],
   "source": [
    "houses_train_copy.drop([\"neighbourhood\",\"description\",\"amenities\"],axis=1,inplace=True)\n",
    "\n",
    "sum(houses_train_copy.isnull().sum()) #here neighbourhood is removed as we already have longitude and latitude information"
   ]
  },
  {
   "cell_type": "code",
   "execution_count": 179,
   "metadata": {},
   "outputs": [
    {
     "data": {
      "text/plain": [
       "''"
      ]
     },
     "execution_count": 179,
     "metadata": {},
     "output_type": "execute_result"
    }
   ],
   "source": [
    "houses_train_copy.columns[-1]"
   ]
  },
  {
   "cell_type": "code",
   "execution_count": 180,
   "metadata": {},
   "outputs": [],
   "source": [
    "#houses_train_copy.iloc[:,100:150].isnull().sum()\n",
    "#houses_train_copy.iloc[:,-1]\n",
    "houses_train_copy.drop(houses_train_copy.columns[-1],axis=1,inplace=True)"
   ]
  },
  {
   "cell_type": "code",
   "execution_count": 187,
   "metadata": {},
   "outputs": [
    {
     "data": {
      "text/plain": [
       "count    1993.000000\n",
       "mean        1.248620\n",
       "std         0.604559\n",
       "min         0.000000\n",
       "25%         1.000000\n",
       "50%         1.000000\n",
       "75%         1.000000\n",
       "max         8.000000\n",
       "Name: bathrooms, dtype: float64"
      ]
     },
     "execution_count": 187,
     "metadata": {},
     "output_type": "execute_result"
    }
   ],
   "source": [
    "houses_train_copy[\"bathrooms\"].describe()"
   ]
  },
  {
   "cell_type": "code",
   "execution_count": 188,
   "metadata": {},
   "outputs": [],
   "source": [
    "houses_train_copy[\"bathrooms\"].fillna(1, inplace = True)  "
   ]
  },
  {
   "cell_type": "code",
   "execution_count": 192,
   "metadata": {},
   "outputs": [
    {
     "data": {
      "text/plain": [
       "t    1989\n",
       "f       7\n",
       "Name: host_has_profile_pic, dtype: int64"
      ]
     },
     "execution_count": 192,
     "metadata": {},
     "output_type": "execute_result"
    }
   ],
   "source": [
    "houses_train_copy[\"host_has_profile_pic\"].value_counts()"
   ]
  },
  {
   "cell_type": "code",
   "execution_count": 193,
   "metadata": {},
   "outputs": [],
   "source": [
    "houses_train_copy[\"host_has_profile_pic\"].fillna(\"t\", inplace = True)"
   ]
  },
  {
   "cell_type": "code",
   "execution_count": 195,
   "metadata": {},
   "outputs": [
    {
     "data": {
      "text/plain": [
       "t    1327\n",
       "f     669\n",
       "Name: host_identity_verified, dtype: int64"
      ]
     },
     "execution_count": 195,
     "metadata": {},
     "output_type": "execute_result"
    }
   ],
   "source": [
    "houses_train_copy[\"host_identity_verified\"].value_counts()"
   ]
  },
  {
   "cell_type": "code",
   "execution_count": 196,
   "metadata": {},
   "outputs": [],
   "source": [
    "houses_train_copy[\"host_identity_verified\"].fillna(\"t\", inplace = True)"
   ]
  },
  {
   "cell_type": "code",
   "execution_count": 199,
   "metadata": {},
   "outputs": [
    {
     "data": {
      "text/plain": [
       "2014-02-14    8\n",
       "2014-06-10    6\n",
       "2013-10-14    6\n",
       "2016-01-18    6\n",
       "2015-05-21    5\n",
       "             ..\n",
       "2013-10-15    1\n",
       "2013-01-30    1\n",
       "2011-04-01    1\n",
       "2015-11-08    1\n",
       "2013-02-01    1\n",
       "Name: host_since, Length: 1339, dtype: int64"
      ]
     },
     "execution_count": 199,
     "metadata": {},
     "output_type": "execute_result"
    }
   ],
   "source": [
    "houses_train_copy[\"host_since\"].value_counts()"
   ]
  },
  {
   "cell_type": "code",
   "execution_count": 202,
   "metadata": {},
   "outputs": [],
   "source": [
    "houses_train_copy[\"host_since\"].fillna(method ='pad',inplace=True)"
   ]
  },
  {
   "cell_type": "code",
   "execution_count": 205,
   "metadata": {},
   "outputs": [
    {
     "data": {
      "text/plain": [
       "1.0    1328\n",
       "2.0     310\n",
       "0.0     166\n",
       "3.0     138\n",
       "4.0      43\n",
       "5.0       8\n",
       "6.0       4\n",
       "7.0       1\n",
       "Name: bedrooms, dtype: int64"
      ]
     },
     "execution_count": 205,
     "metadata": {},
     "output_type": "execute_result"
    }
   ],
   "source": [
    "houses_train_copy[\"bedrooms\"].value_counts()"
   ]
  },
  {
   "cell_type": "code",
   "execution_count": 206,
   "metadata": {},
   "outputs": [],
   "source": [
    "houses_train_copy[\"bedrooms\"].fillna(1, inplace = True)"
   ]
  },
  {
   "cell_type": "code",
   "execution_count": 208,
   "metadata": {},
   "outputs": [
    {
     "data": {
      "text/plain": [
       "1.0     1194\n",
       "2.0      446\n",
       "3.0      192\n",
       "4.0       92\n",
       "5.0       38\n",
       "6.0       18\n",
       "7.0        9\n",
       "8.0        6\n",
       "10.0       2\n",
       "14.0       1\n",
       "Name: beds, dtype: int64"
      ]
     },
     "execution_count": 208,
     "metadata": {},
     "output_type": "execute_result"
    }
   ],
   "source": [
    "houses_train_copy[\"beds\"].value_counts()"
   ]
  },
  {
   "cell_type": "code",
   "execution_count": 209,
   "metadata": {},
   "outputs": [],
   "source": [
    "houses_train_copy[\"beds\"].fillna(1, inplace = True)"
   ]
  },
  {
   "cell_type": "code",
   "execution_count": 210,
   "metadata": {},
   "outputs": [
    {
     "data": {
      "text/plain": [
       "id                                       0\n",
       "property_type                            0\n",
       "room_type                                0\n",
       "accommodates                             0\n",
       "bathrooms                                0\n",
       "bed_type                                 0\n",
       "cancellation_policy                      0\n",
       "cleaning_fee                             0\n",
       "city                                     0\n",
       "host_has_profile_pic                     0\n",
       "host_identity_verified                   0\n",
       "host_since                               0\n",
       "instant_bookable                         0\n",
       "latitude                                 0\n",
       "longitude                                0\n",
       "number_of_reviews                        0\n",
       "bedrooms                                 0\n",
       "beds                                     0\n",
       "\"Paid parking off premises\"              0\n",
       "\"Wide hallway clearance\"                 0\n",
       "\"Children’s books and toys\"              0\n",
       "Bathtub                                  0\n",
       "\"Smart lock\"                             0\n",
       "\"Air conditioning\"                       0\n",
       "\"Free parking on premises\"               0\n",
       "\"Free parking on street\"                 0\n",
       "Shampoo                                  0\n",
       "\"Accessible-height bed\"                  0\n",
       "Breakfast                                0\n",
       "\"Pets allowed\"                           0\n",
       "\"Private entrance\"                       0\n",
       "Iron                                     0\n",
       " smooth pathway to front door\"           0\n",
       "\"Pocket wifi\"                            0\n",
       "\"Fixed grab bars for shower & toilet\"    0\n",
       "Elevator                                 0\n",
       "\"Fireplace guards\"                       0\n",
       "\"Suitable for events\"                    0\n",
       "Pool                                     0\n",
       "\"Wheelchair accessible\"                  0\n",
       "\"Outlet covers\"                          0\n",
       "\"Changing table\"                         0\n",
       "\"Dishes and silverware\"                  0\n",
       "\"Well-lit path to entrance\"              0\n",
       "\"Babysitter recommendations\"             0\n",
       "Smartlock                                0\n",
       "\"Hot water kettle\"                       0\n",
       "\"Doorman Entry\"                          0\n",
       "Oven                                     0\n",
       "\"Patio or balcony\"                       0\n",
       "dtype: int64"
      ]
     },
     "execution_count": 210,
     "metadata": {},
     "output_type": "execute_result"
    }
   ],
   "source": [
    "houses_train_copy.iloc[:,0:50].isnull().sum()"
   ]
  },
  {
   "cell_type": "code",
   "execution_count": 212,
   "metadata": {},
   "outputs": [
    {
     "data": {
      "text/plain": [
       "(2000, 135)"
      ]
     },
     "execution_count": 212,
     "metadata": {},
     "output_type": "execute_result"
    }
   ],
   "source": [
    "sum(houses_train_copy.isnull().sum())\n",
    "houses_train_copy.shape"
   ]
  },
  {
   "cell_type": "code",
   "execution_count": 213,
   "metadata": {},
   "outputs": [
    {
     "data": {
      "text/plain": [
       "0    1\n",
       "1    1\n",
       "2    1\n",
       "3    2\n",
       "4    1\n",
       "Name: bathrooms, dtype: int32"
      ]
     },
     "execution_count": 213,
     "metadata": {},
     "output_type": "execute_result"
    }
   ],
   "source": [
    "houses_train_copy['bathrooms']=houses_train_copy['bathrooms'].astype(int)\n",
    "houses_train_copy['bathrooms'].head()"
   ]
  },
  {
   "cell_type": "code",
   "execution_count": 214,
   "metadata": {},
   "outputs": [
    {
     "data": {
      "text/plain": [
       "['id',\n",
       " 'property_type',\n",
       " 'room_type',\n",
       " 'accommodates',\n",
       " 'bathrooms',\n",
       " 'bed_type',\n",
       " 'cancellation_policy',\n",
       " 'cleaning_fee',\n",
       " 'city',\n",
       " 'host_has_profile_pic',\n",
       " 'host_identity_verified',\n",
       " 'host_since',\n",
       " 'instant_bookable',\n",
       " 'latitude',\n",
       " 'longitude',\n",
       " 'number_of_reviews',\n",
       " 'bedrooms',\n",
       " 'beds',\n",
       " '\"Paid parking off premises\"',\n",
       " '\"Wide hallway clearance\"',\n",
       " '\"Children’s books and toys\"',\n",
       " 'Bathtub',\n",
       " '\"Smart lock\"',\n",
       " '\"Air conditioning\"',\n",
       " '\"Free parking on premises\"',\n",
       " '\"Free parking on street\"',\n",
       " 'Shampoo',\n",
       " '\"Accessible-height bed\"',\n",
       " 'Breakfast',\n",
       " '\"Pets allowed\"',\n",
       " '\"Private entrance\"',\n",
       " 'Iron',\n",
       " ' smooth pathway to front door\"',\n",
       " '\"Pocket wifi\"',\n",
       " '\"Fixed grab bars for shower & toilet\"',\n",
       " 'Elevator',\n",
       " '\"Fireplace guards\"',\n",
       " '\"Suitable for events\"',\n",
       " 'Pool',\n",
       " '\"Wheelchair accessible\"',\n",
       " '\"Outlet covers\"',\n",
       " '\"Changing table\"',\n",
       " '\"Dishes and silverware\"',\n",
       " '\"Well-lit path to entrance\"',\n",
       " '\"Babysitter recommendations\"',\n",
       " 'Smartlock',\n",
       " '\"Hot water kettle\"',\n",
       " '\"Doorman Entry\"',\n",
       " 'Oven',\n",
       " '\"Patio or balcony\"',\n",
       " '\"Cooking basics\"',\n",
       " '\"Safety card\"',\n",
       " 'Washer',\n",
       " 'Doorman',\n",
       " '\"Wireless Internet\"',\n",
       " '\"Smoke detector\"',\n",
       " 'Hangers',\n",
       " '\"Lock on bedroom door\"',\n",
       " 'Beachfront',\n",
       " '\"Flat',\n",
       " 'Lockbox',\n",
       " '\"Disabled parking spot\"',\n",
       " '\"Hot tub\"',\n",
       " '\"Carbon monoxide detector\"',\n",
       " '\"Extra pillows and blankets\"',\n",
       " '\"Buzzer/wireless intercom\"',\n",
       " '\"Long term stays allowed\"',\n",
       " '\"Garden or backyard\"',\n",
       " '\"Smoking allowed\"',\n",
       " '\"Game console\"',\n",
       " '\"Coffee maker\"',\n",
       " '\"First aid kit\"',\n",
       " 'Internet',\n",
       " '\"Wide entryway\"',\n",
       " 'Dishwasher',\n",
       " '\"Step-free access\"',\n",
       " '\"Accessible-height toilet\"',\n",
       " '\"Children’s dinnerware\"',\n",
       " '\"BBQ grill\"',\n",
       " 'Kitchen',\n",
       " '\"Cable TV\"',\n",
       " 'Crib',\n",
       " '\"Handheld shower head\"',\n",
       " '\"Single level home\"',\n",
       " '\"Stair gates\"',\n",
       " '\"Firm mattress\"',\n",
       " '\"Self Check-In\"',\n",
       " '\"Other pet(s)\"',\n",
       " '\"Host greets you\"',\n",
       " '\"Pets live on this property\"',\n",
       " '\"Indoor fireplace\"',\n",
       " '\"Family/kid friendly\"',\n",
       " 'TV',\n",
       " '\"translation missing: en.hosting_amenity_50\"',\n",
       " '\"24-hour check-in\"',\n",
       " 'Waterfront',\n",
       " 'Refrigerator',\n",
       " '\"Roll-in shower with chair\"',\n",
       " '\"Ski in/Ski out\"',\n",
       " '\"Baby monitor\"',\n",
       " '\"Table corner guards\"',\n",
       " '\"Pack ’n Play/travel crib\"',\n",
       " '\"Hot water\"',\n",
       " 'Other',\n",
       " '\"EV charger\"',\n",
       " 'Dryer',\n",
       " '\"Wide doorway\"',\n",
       " '\"Wide clearance to shower & toilet\"',\n",
       " '\"Private bathroom\"',\n",
       " '\"Baby bath\"',\n",
       " '\"Luggage dropoff allowed\"',\n",
       " 'Microwave',\n",
       " 'Cat(s)',\n",
       " '\"Room-darkening shades\"',\n",
       " '\"Laptop friendly workspace\"',\n",
       " '\"Hair dryer\"',\n",
       " '\"Elevator in building\"',\n",
       " 'Essentials',\n",
       " '\"Window guards\"',\n",
       " '\"High chair\"',\n",
       " 'Keypad',\n",
       " '\"Wide clearance to bed\"',\n",
       " 'Stove',\n",
       " '\"Bathtub with shower chair\"',\n",
       " '\"Bed linens\"',\n",
       " '\"Ethernet connection\"',\n",
       " '\"translation missing: en.hosting_amenity_49\"',\n",
       " '\"Private living room\"',\n",
       " '\"Beach essentials\"',\n",
       " 'Heating',\n",
       " '\"Fire extinguisher\"',\n",
       " '\"Cleaning before checkout\"',\n",
       " 'Dog(s)',\n",
       " 'Gym',\n",
       " '\"Washer / Dryer\"']"
      ]
     },
     "execution_count": 214,
     "metadata": {},
     "output_type": "execute_result"
    }
   ],
   "source": [
    "list(houses_train_copy.columns)"
   ]
  },
  {
   "cell_type": "code",
   "execution_count": 215,
   "metadata": {},
   "outputs": [
    {
     "data": {
      "text/plain": [
       "<bound method DataFrame.info of             id property_type        room_type  accommodates  bathrooms  \\\n",
       "0      6375849      Bungalow     Private room             2          1   \n",
       "1      4188426     Apartment  Entire home/apt             2          1   \n",
       "2     12090887     Apartment  Entire home/apt             3          1   \n",
       "3      4150932         House  Entire home/apt             4          2   \n",
       "4       883306     Apartment  Entire home/apt             4          1   \n",
       "...        ...           ...              ...           ...        ...   \n",
       "1995   2117401     Apartment  Entire home/apt             4          1   \n",
       "1996  18086316   Condominium  Entire home/apt             6          2   \n",
       "1997   7480853         House  Entire home/apt             4          1   \n",
       "1998  14520287     Apartment      Shared room             2          1   \n",
       "1999    798100     Apartment  Entire home/apt             2          1   \n",
       "\n",
       "      bed_type cancellation_policy  cleaning_fee     city  \\\n",
       "0     Real Bed              strict          True       LA   \n",
       "1     Real Bed              strict          True       LA   \n",
       "2     Real Bed              strict          True       LA   \n",
       "3     Real Bed              strict         False       LA   \n",
       "4     Real Bed              strict          True      NYC   \n",
       "...        ...                 ...           ...      ...   \n",
       "1995  Real Bed              strict          True       LA   \n",
       "1996  Real Bed              strict          True  Chicago   \n",
       "1997  Real Bed            flexible          True       LA   \n",
       "1998  Real Bed            moderate          True      NYC   \n",
       "1999  Real Bed            moderate          True       LA   \n",
       "\n",
       "     host_has_profile_pic  ... \"Ethernet connection\"  \\\n",
       "0                       t  ...                     0   \n",
       "1                       t  ...                     0   \n",
       "2                       t  ...                     0   \n",
       "3                       t  ...                     0   \n",
       "4                       t  ...                     0   \n",
       "...                   ...  ...                   ...   \n",
       "1995                    t  ...                     0   \n",
       "1996                    t  ...                     0   \n",
       "1997                    t  ...                     0   \n",
       "1998                    t  ...                     0   \n",
       "1999                    t  ...                     0   \n",
       "\n",
       "     \"translation missing: en.hosting_amenity_49\" \"Private living room\"  \\\n",
       "0                                               0                     0   \n",
       "1                                               0                     0   \n",
       "2                                               0                     0   \n",
       "3                                               1                     0   \n",
       "4                                               0                     0   \n",
       "...                                           ...                   ...   \n",
       "1995                                            0                     0   \n",
       "1996                                            0                     0   \n",
       "1997                                            1                     0   \n",
       "1998                                            0                     0   \n",
       "1999                                            1                     0   \n",
       "\n",
       "      \"Beach essentials\"  Heating  \"Fire extinguisher\"  \\\n",
       "0                      0        1                    0   \n",
       "1                      0        1                    0   \n",
       "2                      0        1                    0   \n",
       "3                      0        1                    0   \n",
       "4                      0        1                    0   \n",
       "...                  ...      ...                  ...   \n",
       "1995                   0        1                    1   \n",
       "1996                   0        1                    0   \n",
       "1997                   0        1                    1   \n",
       "1998                   0        1                    0   \n",
       "1999                   0        0                    0   \n",
       "\n",
       "      \"Cleaning before checkout\"  Dog(s)  Gym  \"Washer / Dryer\"  \n",
       "0                              0       0    0                 0  \n",
       "1                              0       0    0                 0  \n",
       "2                              0       0    1                 0  \n",
       "3                              0       0    0                 0  \n",
       "4                              0       0    0                 0  \n",
       "...                          ...     ...  ...               ...  \n",
       "1995                           0       0    0                 0  \n",
       "1996                           0       0    0                 0  \n",
       "1997                           0       0    0                 0  \n",
       "1998                           0       0    0                 0  \n",
       "1999                           0       0    0                 0  \n",
       "\n",
       "[2000 rows x 135 columns]>"
      ]
     },
     "execution_count": 215,
     "metadata": {},
     "output_type": "execute_result"
    }
   ],
   "source": [
    "#from sklearn.preprocessing import LabelEncoder \n",
    "#le = LabelEncoder() \n",
    "#data['Gender']= le.fit_transform(data['Gender']) \n",
    "#data['Geography']= le.fit_transform(data['Geography'])\n",
    "houses_train_copy.info"
   ]
  },
  {
   "cell_type": "code",
   "execution_count": 216,
   "metadata": {},
   "outputs": [
    {
     "name": "stdout",
     "output_type": "stream",
     "text": [
      "2020-03-31\n"
     ]
    },
    {
     "data": {
      "text/plain": [
       "1205"
      ]
     },
     "execution_count": 216,
     "metadata": {},
     "output_type": "execute_result"
    }
   ],
   "source": [
    "from datetime import date\n",
    "today=date.today()\n",
    "print(today)\n",
    "\n",
    "today=pd.to_datetime(today)\n",
    "\n",
    "houses_train_copy[\"host_since\"].dtype\n",
    "\n",
    "houses_train_copy['host_since']=pd.to_datetime(houses_train_copy['host_since'])\n",
    "\n",
    "(today-houses_train_copy[\"host_since\"][0]).days\n",
    "#houses_train_copy[\"host_since\"].dtype"
   ]
  },
  {
   "cell_type": "code",
   "execution_count": 217,
   "metadata": {},
   "outputs": [],
   "source": [
    "#houses_train_copy_duplicate1=houses_train_copy.copy()\n",
    "\n",
    "#houses_train_copy=houses_train_copy_duplicate1\n",
    "\n",
    "houses_train_copy[\"host_since\"]=today-houses_train_copy[\"host_since\"]"
   ]
  },
  {
   "cell_type": "code",
   "execution_count": 218,
   "metadata": {},
   "outputs": [
    {
     "name": "stdout",
     "output_type": "stream",
     "text": [
      "2000\n",
      "2000\n"
     ]
    },
    {
     "data": {
      "text/plain": [
       "0    1205\n",
       "1    3075\n",
       "2    1280\n",
       "3    3009\n",
       "4    2142\n",
       "Name: host_since, dtype: int64"
      ]
     },
     "execution_count": 218,
     "metadata": {},
     "output_type": "execute_result"
    }
   ],
   "source": [
    "houses_train_copy[\"host_since\"].head()\n",
    "str(houses_train_copy[\"host_since\"][0])\n",
    "\n",
    "import re\n",
    "int(re.findall('\\d+',str(houses_train_copy[\"host_since\"][0]))[0])\n",
    "\n",
    "\n",
    "host_since_days=[int(re.findall('\\d+',str(houses_train_copy[\"host_since\"].iloc[i]))[0]) for i in range(len(houses_train_copy[\"host_since\"]))]\n",
    "print(len(host_since_days))\n",
    "print(len(houses_train_copy[\"host_since\"]))\n",
    "\n",
    "\n",
    "houses_train_copy[\"host_since\"]=host_since_days\n",
    "houses_train_copy[\"host_since\"].head()"
   ]
  },
  {
   "cell_type": "code",
   "execution_count": 109,
   "metadata": {},
   "outputs": [],
   "source": [
    "#int(str(houses_train_copy[\"host_since\"][0])[0:4])"
   ]
  },
  {
   "cell_type": "code",
   "execution_count": 402,
   "metadata": {},
   "outputs": [],
   "source": [
    "#[int(str(houses_train_copy[\"host_since\"][i])[0:4]) for i in range(len(houses_train_copy[\"host_since\"]))]"
   ]
  },
  {
   "cell_type": "code",
   "execution_count": 426,
   "metadata": {},
   "outputs": [],
   "source": [
    "# property_type room_type bed_type cancellation_policy city number_of_reviews \n",
    "\n",
    "# cleaning_fee (1,0) host_identity_verified (1,0) instant_bookable (1,0) host_has_profile_pic (1,0)\n",
    "\n",
    "# accommodates bathrooms bedrooms beds latitude longitude host_since"
   ]
  },
  {
   "cell_type": "code",
   "execution_count": 219,
   "metadata": {},
   "outputs": [
    {
     "data": {
      "text/plain": [
       "array([ True, False])"
      ]
     },
     "execution_count": 219,
     "metadata": {},
     "output_type": "execute_result"
    }
   ],
   "source": [
    "houses_train_copy[\"cleaning_fee\"].unique()\n",
    "#houses_train_copy[\"cleaning_fee\"][0]"
   ]
  },
  {
   "cell_type": "code",
   "execution_count": 220,
   "metadata": {},
   "outputs": [],
   "source": [
    "houses_train_copy['cleaning_fee']=houses_train_copy['cleaning_fee'].apply(lambda x: 0 if x==False else 1)"
   ]
  },
  {
   "cell_type": "code",
   "execution_count": 229,
   "metadata": {},
   "outputs": [
    {
     "data": {
      "text/plain": [
       "array([0, 1], dtype=int64)"
      ]
     },
     "execution_count": 229,
     "metadata": {},
     "output_type": "execute_result"
    }
   ],
   "source": [
    "houses_train_copy[\"host_identity_verified\"].unique()"
   ]
  },
  {
   "cell_type": "code",
   "execution_count": 222,
   "metadata": {},
   "outputs": [],
   "source": [
    "houses_train_copy['host_identity_verified']=houses_train_copy['host_identity_verified'].apply(lambda x: 0 if x==\"f\" else 1)"
   ]
  },
  {
   "cell_type": "code",
   "execution_count": 228,
   "metadata": {},
   "outputs": [
    {
     "data": {
      "text/plain": [
       "array([0, 1], dtype=int64)"
      ]
     },
     "execution_count": 228,
     "metadata": {},
     "output_type": "execute_result"
    }
   ],
   "source": [
    "houses_train_copy[\"instant_bookable\"].unique()"
   ]
  },
  {
   "cell_type": "code",
   "execution_count": 224,
   "metadata": {},
   "outputs": [],
   "source": [
    "houses_train_copy['instant_bookable']=houses_train_copy['instant_bookable'].apply(lambda x: 0 if x==\"f\" else 1)"
   ]
  },
  {
   "cell_type": "code",
   "execution_count": 230,
   "metadata": {},
   "outputs": [
    {
     "data": {
      "text/plain": [
       "array([1, 0], dtype=int64)"
      ]
     },
     "execution_count": 230,
     "metadata": {},
     "output_type": "execute_result"
    }
   ],
   "source": [
    "houses_train_copy[\"host_has_profile_pic\"].unique()"
   ]
  },
  {
   "cell_type": "code",
   "execution_count": 226,
   "metadata": {},
   "outputs": [],
   "source": [
    "houses_train_copy['host_has_profile_pic']=houses_train_copy['host_has_profile_pic'].apply(lambda x: 0 if x==\"f\" else 1)"
   ]
  },
  {
   "cell_type": "code",
   "execution_count": 118,
   "metadata": {},
   "outputs": [],
   "source": [
    "#houses_train_copy_duplicate2=houses_train_copy\n",
    "#houses_tran_copy=houses_train_copy_duplicate2.copy()"
   ]
  },
  {
   "cell_type": "code",
   "execution_count": 231,
   "metadata": {},
   "outputs": [
    {
     "data": {
      "text/plain": [
       "Index(['id', 'property_type', 'room_type', 'accommodates', 'bathrooms',\n",
       "       'bed_type', 'cancellation_policy', 'cleaning_fee', 'city',\n",
       "       'host_has_profile_pic',\n",
       "       ...\n",
       "       '\"Ethernet connection\"', '\"translation missing: en.hosting_amenity_49\"',\n",
       "       '\"Private living room\"', '\"Beach essentials\"', 'Heating',\n",
       "       '\"Fire extinguisher\"', '\"Cleaning before checkout\"', 'Dog(s)', 'Gym',\n",
       "       '\"Washer / Dryer\"'],\n",
       "      dtype='object', length=135)"
      ]
     },
     "execution_count": 231,
     "metadata": {},
     "output_type": "execute_result"
    }
   ],
   "source": [
    "houses_train_copy.columns"
   ]
  },
  {
   "cell_type": "code",
   "execution_count": 232,
   "metadata": {},
   "outputs": [],
   "source": [
    "# property_type room_type bed_type cancellation_policy city number_of_reviews \n",
    "houses_train_copy_dummies=pd.get_dummies(houses_train_copy, columns=['property_type', 'room_type','bed_type','cancellation_policy','city'])"
   ]
  },
  {
   "cell_type": "code",
   "execution_count": 233,
   "metadata": {},
   "outputs": [
    {
     "name": "stdout",
     "output_type": "stream",
     "text": [
      "<class 'pandas.core.frame.DataFrame'>\n",
      "RangeIndex: 2000 entries, 0 to 1999\n",
      "Columns: 169 entries, id to city_SF\n",
      "dtypes: float64(4), int32(1), int64(125), uint8(39)\n",
      "memory usage: 2.1 MB\n"
     ]
    }
   ],
   "source": [
    "houses_train_copy_dummies.info()"
   ]
  },
  {
   "cell_type": "code",
   "execution_count": 234,
   "metadata": {},
   "outputs": [
    {
     "data": {
      "text/plain": [
       "0    1\n",
       "1    1\n",
       "2    1\n",
       "3    2\n",
       "4    1\n",
       "Name: bathrooms, dtype: int32"
      ]
     },
     "execution_count": 234,
     "metadata": {},
     "output_type": "execute_result"
    }
   ],
   "source": [
    "houses_train_copy_dummies['bathrooms']=houses_train_copy_dummies['bathrooms'].astype(int)\n",
    "houses_train_copy_dummies['bathrooms'].head()"
   ]
  },
  {
   "cell_type": "code",
   "execution_count": 235,
   "metadata": {},
   "outputs": [
    {
     "data": {
      "text/html": [
       "<div>\n",
       "<style scoped>\n",
       "    .dataframe tbody tr th:only-of-type {\n",
       "        vertical-align: middle;\n",
       "    }\n",
       "\n",
       "    .dataframe tbody tr th {\n",
       "        vertical-align: top;\n",
       "    }\n",
       "\n",
       "    .dataframe thead th {\n",
       "        text-align: right;\n",
       "    }\n",
       "</style>\n",
       "<table border=\"1\" class=\"dataframe\">\n",
       "  <thead>\n",
       "    <tr style=\"text-align: right;\">\n",
       "      <th></th>\n",
       "      <th>id</th>\n",
       "      <th>accommodates</th>\n",
       "      <th>bathrooms</th>\n",
       "      <th>cleaning_fee</th>\n",
       "      <th>host_has_profile_pic</th>\n",
       "      <th>host_identity_verified</th>\n",
       "      <th>host_since</th>\n",
       "      <th>instant_bookable</th>\n",
       "      <th>latitude</th>\n",
       "      <th>longitude</th>\n",
       "      <th>...</th>\n",
       "      <th>cancellation_policy_moderate</th>\n",
       "      <th>cancellation_policy_strict</th>\n",
       "      <th>cancellation_policy_super_strict_30</th>\n",
       "      <th>cancellation_policy_super_strict_60</th>\n",
       "      <th>city_Boston</th>\n",
       "      <th>city_Chicago</th>\n",
       "      <th>city_DC</th>\n",
       "      <th>city_LA</th>\n",
       "      <th>city_NYC</th>\n",
       "      <th>city_SF</th>\n",
       "    </tr>\n",
       "  </thead>\n",
       "  <tbody>\n",
       "    <tr>\n",
       "      <th>0</th>\n",
       "      <td>6375849</td>\n",
       "      <td>2</td>\n",
       "      <td>1</td>\n",
       "      <td>1</td>\n",
       "      <td>1</td>\n",
       "      <td>0</td>\n",
       "      <td>1205</td>\n",
       "      <td>0</td>\n",
       "      <td>34.041205</td>\n",
       "      <td>-118.375735</td>\n",
       "      <td>...</td>\n",
       "      <td>0</td>\n",
       "      <td>1</td>\n",
       "      <td>0</td>\n",
       "      <td>0</td>\n",
       "      <td>0</td>\n",
       "      <td>0</td>\n",
       "      <td>0</td>\n",
       "      <td>1</td>\n",
       "      <td>0</td>\n",
       "      <td>0</td>\n",
       "    </tr>\n",
       "    <tr>\n",
       "      <th>1</th>\n",
       "      <td>4188426</td>\n",
       "      <td>2</td>\n",
       "      <td>1</td>\n",
       "      <td>1</td>\n",
       "      <td>1</td>\n",
       "      <td>1</td>\n",
       "      <td>3075</td>\n",
       "      <td>0</td>\n",
       "      <td>34.085591</td>\n",
       "      <td>-118.264554</td>\n",
       "      <td>...</td>\n",
       "      <td>0</td>\n",
       "      <td>1</td>\n",
       "      <td>0</td>\n",
       "      <td>0</td>\n",
       "      <td>0</td>\n",
       "      <td>0</td>\n",
       "      <td>0</td>\n",
       "      <td>1</td>\n",
       "      <td>0</td>\n",
       "      <td>0</td>\n",
       "    </tr>\n",
       "    <tr>\n",
       "      <th>2</th>\n",
       "      <td>12090887</td>\n",
       "      <td>3</td>\n",
       "      <td>1</td>\n",
       "      <td>1</td>\n",
       "      <td>1</td>\n",
       "      <td>1</td>\n",
       "      <td>1280</td>\n",
       "      <td>0</td>\n",
       "      <td>34.097914</td>\n",
       "      <td>-118.364135</td>\n",
       "      <td>...</td>\n",
       "      <td>0</td>\n",
       "      <td>1</td>\n",
       "      <td>0</td>\n",
       "      <td>0</td>\n",
       "      <td>0</td>\n",
       "      <td>0</td>\n",
       "      <td>0</td>\n",
       "      <td>1</td>\n",
       "      <td>0</td>\n",
       "      <td>0</td>\n",
       "    </tr>\n",
       "    <tr>\n",
       "      <th>3</th>\n",
       "      <td>4150932</td>\n",
       "      <td>4</td>\n",
       "      <td>2</td>\n",
       "      <td>0</td>\n",
       "      <td>1</td>\n",
       "      <td>1</td>\n",
       "      <td>3009</td>\n",
       "      <td>0</td>\n",
       "      <td>34.004349</td>\n",
       "      <td>-118.466077</td>\n",
       "      <td>...</td>\n",
       "      <td>0</td>\n",
       "      <td>1</td>\n",
       "      <td>0</td>\n",
       "      <td>0</td>\n",
       "      <td>0</td>\n",
       "      <td>0</td>\n",
       "      <td>0</td>\n",
       "      <td>1</td>\n",
       "      <td>0</td>\n",
       "      <td>0</td>\n",
       "    </tr>\n",
       "    <tr>\n",
       "      <th>4</th>\n",
       "      <td>883306</td>\n",
       "      <td>4</td>\n",
       "      <td>1</td>\n",
       "      <td>1</td>\n",
       "      <td>1</td>\n",
       "      <td>1</td>\n",
       "      <td>2142</td>\n",
       "      <td>0</td>\n",
       "      <td>40.745019</td>\n",
       "      <td>-73.916895</td>\n",
       "      <td>...</td>\n",
       "      <td>0</td>\n",
       "      <td>1</td>\n",
       "      <td>0</td>\n",
       "      <td>0</td>\n",
       "      <td>0</td>\n",
       "      <td>0</td>\n",
       "      <td>0</td>\n",
       "      <td>0</td>\n",
       "      <td>1</td>\n",
       "      <td>0</td>\n",
       "    </tr>\n",
       "  </tbody>\n",
       "</table>\n",
       "<p>5 rows × 169 columns</p>\n",
       "</div>"
      ],
      "text/plain": [
       "         id  accommodates  bathrooms  cleaning_fee  host_has_profile_pic  \\\n",
       "0   6375849             2          1             1                     1   \n",
       "1   4188426             2          1             1                     1   \n",
       "2  12090887             3          1             1                     1   \n",
       "3   4150932             4          2             0                     1   \n",
       "4    883306             4          1             1                     1   \n",
       "\n",
       "   host_identity_verified  host_since  instant_bookable   latitude  \\\n",
       "0                       0        1205                 0  34.041205   \n",
       "1                       1        3075                 0  34.085591   \n",
       "2                       1        1280                 0  34.097914   \n",
       "3                       1        3009                 0  34.004349   \n",
       "4                       1        2142                 0  40.745019   \n",
       "\n",
       "    longitude  ...  cancellation_policy_moderate  cancellation_policy_strict  \\\n",
       "0 -118.375735  ...                             0                           1   \n",
       "1 -118.264554  ...                             0                           1   \n",
       "2 -118.364135  ...                             0                           1   \n",
       "3 -118.466077  ...                             0                           1   \n",
       "4  -73.916895  ...                             0                           1   \n",
       "\n",
       "   cancellation_policy_super_strict_30  cancellation_policy_super_strict_60  \\\n",
       "0                                    0                                    0   \n",
       "1                                    0                                    0   \n",
       "2                                    0                                    0   \n",
       "3                                    0                                    0   \n",
       "4                                    0                                    0   \n",
       "\n",
       "   city_Boston  city_Chicago  city_DC  city_LA  city_NYC  city_SF  \n",
       "0            0             0        0        1         0        0  \n",
       "1            0             0        0        1         0        0  \n",
       "2            0             0        0        1         0        0  \n",
       "3            0             0        0        1         0        0  \n",
       "4            0             0        0        0         1        0  \n",
       "\n",
       "[5 rows x 169 columns]"
      ]
     },
     "execution_count": 235,
     "metadata": {},
     "output_type": "execute_result"
    }
   ],
   "source": [
    "houses_train_copy_dummies.head()"
   ]
  },
  {
   "cell_type": "code",
   "execution_count": 236,
   "metadata": {},
   "outputs": [],
   "source": [
    "import numpy as np\n",
    "\n",
    "def haversine_distance(row):\n",
    "    lat_p, lon_p = row['latitude'], row['longitude']\n",
    "    lat_d, lon_d = 0,0\n",
    "    radius = 6371 # km\n",
    "\n",
    "    dlat = np.radians(lat_d - lat_p)\n",
    "    dlon = np.radians(lon_d - lon_p)\n",
    "    a = np.sin(dlat/2) * np.sin(dlat/2) + np.cos(np.radians(lat_p)) * np.cos(np.radians(lat_d)) * np.sin(dlon/2) * np.sin(dlon/2)\n",
    "    c = 2 * np.arctan2(np.sqrt(a), np.sqrt(1-a))\n",
    "    distance = radius * c\n",
    "\n",
    "    return distance\n",
    "\n",
    "houses_train_copy_dummies['distance'] = houses_train_copy_dummies.apply(haversine_distance, axis = 1)"
   ]
  },
  {
   "cell_type": "code",
   "execution_count": 237,
   "metadata": {},
   "outputs": [],
   "source": [
    "#long lat inforamtion is captured in distance column so we can remove longitude and latitude"
   ]
  },
  {
   "cell_type": "code",
   "execution_count": 238,
   "metadata": {},
   "outputs": [],
   "source": [
    "houses_train_copy_dummies.drop([\"latitude\",\"longitude\"],axis=1,inplace=True)"
   ]
  },
  {
   "cell_type": "code",
   "execution_count": 239,
   "metadata": {},
   "outputs": [
    {
     "data": {
      "text/plain": [
       "Index(['id', 'accommodates', 'bathrooms', 'cleaning_fee',\n",
       "       'host_has_profile_pic', 'host_identity_verified', 'host_since',\n",
       "       'instant_bookable', 'number_of_reviews', 'bedrooms',\n",
       "       ...\n",
       "       'cancellation_policy_strict', 'cancellation_policy_super_strict_30',\n",
       "       'cancellation_policy_super_strict_60', 'city_Boston', 'city_Chicago',\n",
       "       'city_DC', 'city_LA', 'city_NYC', 'city_SF', 'distance'],\n",
       "      dtype='object', length=168)"
      ]
     },
     "execution_count": 239,
     "metadata": {},
     "output_type": "execute_result"
    }
   ],
   "source": [
    "houses_train_copy_dummies.columns"
   ]
  },
  {
   "cell_type": "code",
   "execution_count": 240,
   "metadata": {},
   "outputs": [],
   "source": [
    "houses_train_copy_dummies.drop([\"property_type_Hostel\", \"cancellation_policy_strict\", \"distance\",'\"Flat', \"property_type_Apartment\",\"Stove\",\"Refrigerator\"],axis=1,inplace=True)"
   ]
  },
  {
   "cell_type": "code",
   "execution_count": 244,
   "metadata": {},
   "outputs": [],
   "source": [
    "#houses_test_copy_dummies_duplicate=houses_train_copy_dummies.copy()\n",
    "houses_train_copy_dummies.to_csv(\"houses_test_copy_dummies.csv\",index=False)"
   ]
  },
  {
   "cell_type": "code",
   "execution_count": 242,
   "metadata": {},
   "outputs": [
    {
     "data": {
      "text/plain": [
       "Index(['id', 'accommodates', 'bathrooms', 'cleaning_fee',\n",
       "       'host_has_profile_pic', 'host_identity_verified', 'host_since',\n",
       "       'instant_bookable', 'number_of_reviews', 'bedrooms',\n",
       "       ...\n",
       "       'cancellation_policy_flexible', 'cancellation_policy_moderate',\n",
       "       'cancellation_policy_super_strict_30',\n",
       "       'cancellation_policy_super_strict_60', 'city_Boston', 'city_Chicago',\n",
       "       'city_DC', 'city_LA', 'city_NYC', 'city_SF'],\n",
       "      dtype='object', length=161)"
      ]
     },
     "execution_count": 242,
     "metadata": {},
     "output_type": "execute_result"
    }
   ],
   "source": [
    "houses_train_copy_dummies.columns"
   ]
  },
  {
   "cell_type": "code",
   "execution_count": 245,
   "metadata": {},
   "outputs": [
    {
     "data": {
      "text/plain": [
       "(2000, 161)"
      ]
     },
     "execution_count": 245,
     "metadata": {},
     "output_type": "execute_result"
    }
   ],
   "source": [
    "houses_train_copy_dummies.shape"
   ]
  },
  {
   "cell_type": "code",
   "execution_count": null,
   "metadata": {},
   "outputs": [],
   "source": []
  },
  {
   "cell_type": "code",
   "execution_count": null,
   "metadata": {},
   "outputs": [],
   "source": []
  }
 ],
 "metadata": {
  "kernelspec": {
   "display_name": "Python 3",
   "language": "python",
   "name": "python3"
  },
  "language_info": {
   "codemirror_mode": {
    "name": "ipython",
    "version": 3
   },
   "file_extension": ".py",
   "mimetype": "text/x-python",
   "name": "python",
   "nbconvert_exporter": "python",
   "pygments_lexer": "ipython3",
   "version": "3.6.4"
  }
 },
 "nbformat": 4,
 "nbformat_minor": 2
}
